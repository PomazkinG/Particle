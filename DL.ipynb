{
  "nbformat": 4,
  "nbformat_minor": 0,
  "metadata": {
    "colab": {
      "name": "DL.ipynb",
      "provenance": [],
      "authorship_tag": "ABX9TyPxyh/f6a+/kL4zk49LZkTO",
      "include_colab_link": true
    },
    "kernelspec": {
      "name": "python3",
      "display_name": "Python 3"
    }
  },
  "cells": [
    {
      "cell_type": "markdown",
      "metadata": {
        "id": "view-in-github",
        "colab_type": "text"
      },
      "source": [
        "<a href=\"https://colab.research.google.com/github/PomazkinG/Particle/blob/master/DL.ipynb\" target=\"_parent\"><img src=\"https://colab.research.google.com/assets/colab-badge.svg\" alt=\"Open In Colab\"/></a>"
      ]
    },
    {
      "cell_type": "code",
      "metadata": {
        "id": "xQlA4E10LBi-",
        "colab_type": "code",
        "colab": {}
      },
      "source": [
        "import numpy\n",
        "from tensorflow.keras.datasets import mnist\n",
        "from tensorflow.keras.utils import to_categorical\n",
        "from tensorflow.image import rot90\n",
        "import pandas as pd\n",
        "\n",
        "def batch_rotate(images, indices):\n",
        "    images_with_channel = images[:, :, :, numpy.newaxis]\n",
        "    images_with_channel[indices] = rot90(images_with_channel[indices])\n",
        "    return images_with_channel / 255.\n",
        "\n",
        "def prepare_mnist():\n",
        "    rng = numpy.random.RandomState(0)\n",
        "    (x_train, y_train), (x_test, y_test) = mnist.load_data()\n",
        "    rotate_train = rng.choice(2, size=x_train.shape[0]).astype(numpy.bool)\n",
        "    rotate_test = rng.choice(2, size=x_test.shape[0]).astype(numpy.bool)\n",
        "    x_train = batch_rotate(x_train, rotate_train)\n",
        "    x_test = batch_rotate(x_test, rotate_test)\n",
        "    y_train = to_categorical(y_train)\n",
        "    y_test = to_categorical(y_test)\n",
        "    rotate_train = rotate_train.reshape((-1, 1))\n",
        "    rotate_test = rotate_test.reshape((-1, 1))\n",
        "    return x_train, x_test, y_train, y_test, rotate_train, rotate_test\n",
        "  \n",
        "x_train, x_test, y_train, y_test, y_rot_train, y_rot_test = prepare_mnist()\n",
        "print(x_train.shape, y_train.shape, y_rot_train.shape)"
      ],
      "execution_count": 0,
      "outputs": []
    }
  ]
}