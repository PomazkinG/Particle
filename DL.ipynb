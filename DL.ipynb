{
  "nbformat": 4,
  "nbformat_minor": 0,
  "metadata": {
    "colab": {
      "name": "DL.ipynb",
      "provenance": [],
      "authorship_tag": "ABX9TyMFPoTbh3D+FmGSZksOIdbw",
      "include_colab_link": true
    },
    "kernelspec": {
      "name": "python3",
      "display_name": "Python 3"
    }
  },
  "cells": [
    {
      "cell_type": "markdown",
      "metadata": {
        "id": "view-in-github",
        "colab_type": "text"
      },
      "source": [
        "<a href=\"https://colab.research.google.com/github/PomazkinG/Particle/blob/master/DL.ipynb\" target=\"_parent\"><img src=\"https://colab.research.google.com/assets/colab-badge.svg\" alt=\"Open In Colab\"/></a>"
      ]
    },
    {
      "cell_type": "markdown",
      "metadata": {
        "id": "NWSE3D9BDAxb",
        "colab_type": "text"
      },
      "source": [
        "Take-home lab session by Pomazkin Grigorii\n",
        "\n",
        "Student id: 66904\n",
        "\n",
        "Input data: images of handwritten digits rotated and not rotated\n",
        "\n",
        "Expected output: 2 classification results - digit (e.g. 1,2,3) and rotated or not (0 or 1)"
      ]
    },
    {
      "cell_type": "code",
      "metadata": {
        "id": "W5hr5ZoMH2KE",
        "colab_type": "code",
        "colab": {
          "base_uri": "https://localhost:8080/",
          "height": 34
        },
        "outputId": "bc0d0d9f-0e68-4600-e54f-34cbd5781f02"
      },
      "source": [
        "import numpy\n",
        "from tensorflow.keras.datasets import mnist\n",
        "from tensorflow.keras.utils import to_categorical\n",
        "from tensorflow.image import rot90\n",
        "import pandas as pd\n",
        "import keras\n",
        "from keras.models import Sequential\n",
        "from keras.models import Model\n",
        "from keras.layers import Input, Dense, BatchNormalization, Conv2D, MaxPool2D, GlobalMaxPool2D, Dropout\n",
        "from matplotlib import pyplot as plt"
      ],
      "execution_count": 2,
      "outputs": [
        {
          "output_type": "stream",
          "text": [
            "Using TensorFlow backend.\n"
          ],
          "name": "stderr"
        }
      ]
    },
    {
      "cell_type": "markdown",
      "metadata": {
        "id": "7JnCF-zXEb8Z",
        "colab_type": "text"
      },
      "source": [
        "Download and prepare MNIST dataset"
      ]
    },
    {
      "cell_type": "code",
      "metadata": {
        "id": "xQlA4E10LBi-",
        "colab_type": "code",
        "outputId": "7205d02c-cd6e-4a82-ceda-c0568b9cd482",
        "colab": {
          "base_uri": "https://localhost:8080/",
          "height": 68
        }
      },
      "source": [
        "def batch_rotate(images, indices):\n",
        "    images_with_channel = images[:, :, :, numpy.newaxis]\n",
        "    images_with_channel[indices] = rot90(images_with_channel[indices])\n",
        "    return images_with_channel / 255.\n",
        "\n",
        "def prepare_mnist():\n",
        "    rng = numpy.random.RandomState(0)\n",
        "    (x_train, y_train), (x_test, y_test) = mnist.load_data()\n",
        "    rotate_train = rng.choice(2, size=x_train.shape[0]).astype(numpy.bool)\n",
        "    rotate_test = rng.choice(2, size=x_test.shape[0]).astype(numpy.bool)\n",
        "    x_train = batch_rotate(x_train, rotate_train)\n",
        "    x_test = batch_rotate(x_test, rotate_test)\n",
        "    y_train = to_categorical(y_train)\n",
        "    y_test = to_categorical(y_test)\n",
        "    rotate_train = rotate_train.reshape((-1, 1))\n",
        "    rotate_test = rotate_test.reshape((-1, 1))\n",
        "    return x_train, x_test, y_train, y_test, rotate_train, rotate_test\n",
        "  \n",
        "x_train, x_test, y_train, y_test, y_rot_train, y_rot_test = prepare_mnist()\n",
        "y_rot_train = y_rot_train*1\n",
        "y_rot_test = y_rot_test*1\n",
        "print(x_train.shape, y_train.shape, y_rot_train.shape)"
      ],
      "execution_count": 3,
      "outputs": [
        {
          "output_type": "stream",
          "text": [
            "Downloading data from https://storage.googleapis.com/tensorflow/tf-keras-datasets/mnist.npz\n",
            "11493376/11490434 [==============================] - 0s 0us/step\n",
            "(60000, 28, 28, 1) (60000, 10) (60000, 1)\n"
          ],
          "name": "stdout"
        }
      ]
    },
    {
      "cell_type": "markdown",
      "metadata": {
        "id": "jFBiuzN_Gczu",
        "colab_type": "text"
      },
      "source": [
        "List of hyperparameters"
      ]
    },
    {
      "cell_type": "code",
      "metadata": {
        "id": "3VSQHtYxJlf_",
        "colab_type": "code",
        "colab": {}
      },
      "source": [
        "#Input shape 28x28 (image size) + channel = 1\n",
        "input_shape = [x_train.shape[1],x_train.shape[2],x_train.shape[3]]\n",
        "\n",
        "#Batch size giving computer power = 128\n",
        "batch_size = 128\n",
        "\n",
        "#To save time number of epochs = 10\n",
        "num_epoch = 10\n",
        "\n",
        "#Optimizer ADAM\n",
        "opt = keras.optimizers.Adam() \n",
        "\n",
        "#Loss function for digit output = categorical_crossentropy (multiclassification problem) and \n",
        "#for rotation output loss function = binary_crossentropy (binary classification problem)\n",
        "losses = {\"digit_output\": \"categorical_crossentropy\", \"rotation_output\": \"binary_crossentropy\"}"
      ],
      "execution_count": 0,
      "outputs": []
    },
    {
      "cell_type": "markdown",
      "metadata": {
        "id": "WtjGPOGyIBM1",
        "colab_type": "text"
      },
      "source": [
        "**Model architecture**"
      ]
    },
    {
      "cell_type": "markdown",
      "metadata": {
        "id": "TbvXFw3OINOw",
        "colab_type": "text"
      },
      "source": [
        "Choose the number of convolution-pooling pairs"
      ]
    },
    {
      "cell_type": "code",
      "metadata": {
        "id": "IVH3ozDrJXeG",
        "colab_type": "code",
        "outputId": "91a5e56a-bf51-45b0-d180-908349d22349",
        "colab": {
          "base_uri": "https://localhost:8080/"
        }
      },
      "source": [
        "NN = 8 #number of neural nets\n",
        "model = [0] * NN\n",
        "\n",
        "for j in range(NN):\n",
        "  #input layer\n",
        "  input_layer = Input(shape=input_shape) \n",
        "\n",
        "  #1st convolution-pooling pair\n",
        "  Conv_1 = Conv2D(32, kernel_size=(3, 3),activation='relu')(input_layer)\n",
        "  Max_Pooling_1 = MaxPooling2D()(Conv_1)\n",
        "\n",
        "  #2nd convolution-pooling pair\n",
        "  Conv_2 = Conv2D(64, (3, 3), activation='relu')(Max_Pooling_1)\n",
        "  Max_Pooling_2 = MaxPooling2D()(Conv_2)\n",
        "\n",
        "  #Flattening\n",
        "  Flat = Flatten()(Max_Pooling_2)\n",
        "\n",
        "  #Dense layer\n",
        "  if j>0:\n",
        "    Dense_1 = Dense(2**(j+4), activation='relu')(Flat)\n",
        "\n",
        "  #Output layers\n",
        "\n",
        "  #1. digit recognition\n",
        "  digit_output = Dense(y_train.shape[1], activation='softmax', name = 'digit_output')(Dense_1)\n",
        "\n",
        "  #2. rotation recognition\n",
        "  rotation_output = Dense(y_rot_train.shape[1], activation='sigmoid', name = 'rotation_output')(Dense_1)\n",
        "\n",
        "  #model compilation\n",
        "  model[j] = Model(inputs=input_layer, outputs=[digit_output, rotation_output])\n",
        "  model[j].compile(loss=losses,optimizer=opt,metrics=['accuracy']) #accuracy for classification problem\n",
        "\n",
        "\n"
      ],
      "execution_count": 8,
      "outputs": [
        {
          "output_type": "error",
          "ename": "NameError",
          "evalue": "ignored",
          "traceback": [
            "\u001b[0;31m---------------------------------------------------------------------------\u001b[0m",
            "\u001b[0;31mNameError\u001b[0m                                 Traceback (most recent call last)",
            "\u001b[0;32m<ipython-input-8-8de7371013a1>\u001b[0m in \u001b[0;36m<module>\u001b[0;34m()\u001b[0m\n\u001b[1;32m      4\u001b[0m \u001b[0;32mfor\u001b[0m \u001b[0mj\u001b[0m \u001b[0;32min\u001b[0m \u001b[0mrange\u001b[0m\u001b[0;34m(\u001b[0m\u001b[0mNN\u001b[0m\u001b[0;34m)\u001b[0m\u001b[0;34m:\u001b[0m\u001b[0;34m\u001b[0m\u001b[0;34m\u001b[0m\u001b[0m\n\u001b[1;32m      5\u001b[0m   \u001b[0;31m#input layer\u001b[0m\u001b[0;34m\u001b[0m\u001b[0;34m\u001b[0m\u001b[0;34m\u001b[0m\u001b[0m\n\u001b[0;32m----> 6\u001b[0;31m   \u001b[0minput_layer\u001b[0m \u001b[0;34m=\u001b[0m \u001b[0mInput\u001b[0m\u001b[0;34m(\u001b[0m\u001b[0mshape\u001b[0m\u001b[0;34m=\u001b[0m\u001b[0minput_shape\u001b[0m\u001b[0;34m)\u001b[0m\u001b[0;34m\u001b[0m\u001b[0;34m\u001b[0m\u001b[0m\n\u001b[0m\u001b[1;32m      7\u001b[0m \u001b[0;34m\u001b[0m\u001b[0m\n\u001b[1;32m      8\u001b[0m   \u001b[0;31m#1st convolution-pooling pair\u001b[0m\u001b[0;34m\u001b[0m\u001b[0;34m\u001b[0m\u001b[0;34m\u001b[0m\u001b[0m\n",
            "\u001b[0;31mNameError\u001b[0m: name 'input_shape' is not defined"
          ]
        }
      ]
    },
    {
      "cell_type": "code",
      "metadata": {
        "id": "gmFoBkVJKwnU",
        "colab_type": "code",
        "outputId": "47ff1481-e6a8-4e59-e222-1f825f120065",
        "colab": {
          "base_uri": "https://localhost:8080/",
          "height": 156
        }
      },
      "source": [
        "model_log[j] = model.fit(x_train,\n",
        "\t{\"digit_output\": y_train, \"rotation_output\": y_rot_train},\n",
        "\tvalidation_data=(x_test,\n",
        "\t\t{\"digit_output\": y_test, \"rotation_output\": y_rot_test}),\n",
        "          batch_size=batch_size,\n",
        "          epochs=num_epoch,\n",
        "          verbose=1)\n"
      ],
      "execution_count": 34,
      "outputs": [
        {
          "output_type": "stream",
          "text": [
            "Train on 60000 samples, validate on 10000 samples\n",
            "Epoch 1/3\n",
            "60000/60000 [==============================] - 140s 2ms/step - loss: 0.2906 - digit_output_loss: 0.2506 - rotation_output_loss: 0.0399 - digit_output_accuracy: 0.9224 - rotation_output_accuracy: 0.9860 - val_loss: 0.1002 - val_digit_output_loss: 0.0866 - val_rotation_output_loss: 0.0126 - val_digit_output_accuracy: 0.9717 - val_rotation_output_accuracy: 0.9956\n",
            "Epoch 2/3\n",
            "60000/60000 [==============================] - 140s 2ms/step - loss: 0.0761 - digit_output_loss: 0.0658 - rotation_output_loss: 0.0102 - digit_output_accuracy: 0.9798 - rotation_output_accuracy: 0.9966 - val_loss: 0.0725 - val_digit_output_loss: 0.0605 - val_rotation_output_loss: 0.0112 - val_digit_output_accuracy: 0.9802 - val_rotation_output_accuracy: 0.9963\n",
            "Epoch 3/3\n",
            "60000/60000 [==============================] - 140s 2ms/step - loss: 0.0450 - digit_output_loss: 0.0386 - rotation_output_loss: 0.0064 - digit_output_accuracy: 0.9878 - rotation_output_accuracy: 0.9979 - val_loss: 0.0655 - val_digit_output_loss: 0.0524 - val_rotation_output_loss: 0.0123 - val_digit_output_accuracy: 0.9823 - val_rotation_output_accuracy: 0.9963\n"
          ],
          "name": "stdout"
        }
      ]
    },
    {
      "cell_type": "code",
      "metadata": {
        "id": "is1UiFcjNzIZ",
        "colab_type": "code",
        "colab": {
          "base_uri": "https://localhost:8080/",
          "height": 323
        },
        "outputId": "4c43485a-42f6-48d8-fe58-59cab270927a"
      },
      "source": [
        "model_log.history"
      ],
      "execution_count": 35,
      "outputs": [
        {
          "output_type": "execute_result",
          "data": {
            "text/plain": [
              "{'digit_output_accuracy': [0.9223833, 0.9798, 0.9878333],\n",
              " 'digit_output_loss': [0.25061244, 0.06584319, 0.038621265],\n",
              " 'loss': [0.29059799047311147, 0.07606201435625554, 0.04495061506430308],\n",
              " 'rotation_output_accuracy': [0.9860333, 0.99656665, 0.9979],\n",
              " 'rotation_output_loss': [0.039895598, 0.010196369, 0.0063585187],\n",
              " 'val_digit_output_accuracy': [0.9717000126838684,\n",
              "  0.9801999926567078,\n",
              "  0.9822999835014343],\n",
              " 'val_digit_output_loss': [0.08658172190189362,\n",
              "  0.06045356020331383,\n",
              "  0.05241880565881729],\n",
              " 'val_loss': [0.10024478524215519, 0.07248186814128421, 0.06547014206629247],\n",
              " 'val_rotation_output_accuracy': [0.9955999851226807,\n",
              "  0.9962999820709229,\n",
              "  0.9962999820709229],\n",
              " 'val_rotation_output_loss': [0.012584253214299679,\n",
              "  0.01123055536299944,\n",
              "  0.012334040366113186]}"
            ]
          },
          "metadata": {
            "tags": []
          },
          "execution_count": 35
        }
      ]
    },
    {
      "cell_type": "code",
      "metadata": {
        "id": "016ESx5sSbWt",
        "colab_type": "code",
        "outputId": "30b33a6e-37cc-4887-dd51-8ac04b448a9a",
        "colab": {
          "base_uri": "https://localhost:8080/",
          "height": 51
        }
      },
      "source": [
        "score = model.evaluate(x_test, y_test, verbose=0)\n",
        "print('Test loss:', score[0]) #Test loss: 0.0296396646054\n",
        "print('Test accuracy:', score[1]) #Test accuracy: 0.9904"
      ],
      "execution_count": 0,
      "outputs": [
        {
          "output_type": "stream",
          "text": [
            "Test loss: 0.07858740667637083\n",
            "Test accuracy: 0.9824000000953674\n"
          ],
          "name": "stdout"
        }
      ]
    },
    {
      "cell_type": "code",
      "metadata": {
        "id": "obLwzxvXSpNS",
        "colab_type": "code",
        "outputId": "88d77856-8712-4022-8bd2-65b3a9463090",
        "colab": {
          "base_uri": "https://localhost:8080/",
          "height": 312
        }
      },
      "source": [
        "plt.plot(model_log.history['accuracy'])\n",
        "plt.plot(model_log.history['val_accuracy'])\n",
        "plt.title('model accuracy')\n",
        "plt.ylabel('accuracy')\n",
        "plt.xlabel('epoch')\n",
        "plt.legend(['train', 'test'], loc='lower right')\n",
        "keras.utils.plot_model(model, 'my_first_model.png', show_shapes=True)"
      ],
      "execution_count": 0,
      "outputs": [
        {
          "output_type": "execute_result",
          "data": {
            "text/plain": [
              "<matplotlib.legend.Legend at 0x7fd834196160>"
            ]
          },
          "metadata": {
            "tags": []
          },
          "execution_count": 22
        },
        {
          "output_type": "display_data",
          "data": {
            "image/png": "[encoded data removed]",
            "text/plain": [
              "<Figure size 432x288 with 1 Axes>"
            ]
          },
          "metadata": {
            "tags": [],
            "needs_background": "light"
          }
        }
      ]
    }
  ]
}