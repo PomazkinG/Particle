{
  "nbformat": 4,
  "nbformat_minor": 0,
  "metadata": {
    "colab": {
      "name": "DL.ipynb",
      "provenance": [],
      "authorship_tag": "ABX9TyOgiPxfm9G5tuwHvzITxvs0",
      "include_colab_link": true
    },
    "kernelspec": {
      "name": "python3",
      "display_name": "Python 3"
    }
  },
  "cells": [
    {
      "cell_type": "markdown",
      "metadata": {
        "id": "view-in-github",
        "colab_type": "text"
      },
      "source": [
        "<a href=\"https://colab.research.google.com/github/PomazkinG/Particle/blob/master/DL.ipynb\" target=\"_parent\"><img src=\"https://colab.research.google.com/assets/colab-badge.svg\" alt=\"Open In Colab\"/></a>"
      ]
    },
    {
      "cell_type": "markdown",
      "metadata": {
        "id": "NWSE3D9BDAxb",
        "colab_type": "text"
      },
      "source": [
        "Take-home lab session by Pomazkin Grigorii\n",
        "\n",
        "Student id: 66904\n",
        "\n",
        "Input data: images of handwritten digits rotated and not rotated\n",
        "\n",
        "Expected output: 2 classification results - digit (e.g. 1,2,3) and rotated or not (0 or 1)"
      ]
    },
    {
      "cell_type": "code",
      "metadata": {
        "id": "W5hr5ZoMH2KE",
        "colab_type": "code",
        "colab": {}
      },
      "source": [
        "import numpy\n",
        "from tensorflow.keras.datasets import mnist\n",
        "from tensorflow.keras.utils import to_categorical\n",
        "from tensorflow.image import rot90\n",
        "import pandas as pd\n",
        "import keras\n",
        "from keras.models import Sequential\n",
        "from keras.models import Model\n",
        "from keras.layers import Input, Dense, BatchNormalization, Conv2D, MaxPool2D, GlobalMaxPool2D, Dropout, Flatten\n",
        "from matplotlib import pyplot as plt"
      ],
      "execution_count": 0,
      "outputs": []
    },
    {
      "cell_type": "markdown",
      "metadata": {
        "id": "7JnCF-zXEb8Z",
        "colab_type": "text"
      },
      "source": [
        "Download and prepare MNIST dataset"
      ]
    },
    {
      "cell_type": "code",
      "metadata": {
        "id": "xQlA4E10LBi-",
        "colab_type": "code",
        "outputId": "9d38bab2-ad7e-4b7c-d9c9-002c155000c0",
        "colab": {
          "base_uri": "https://localhost:8080/",
          "height": 34
        }
      },
      "source": [
        "def batch_rotate(images, indices):\n",
        "    images_with_channel = images[:, :, :, numpy.newaxis]\n",
        "    images_with_channel[indices] = rot90(images_with_channel[indices])\n",
        "    return images_with_channel / 255.\n",
        "\n",
        "def prepare_mnist():\n",
        "    rng = numpy.random.RandomState(0)\n",
        "    (x_train, y_train), (x_test, y_test) = mnist.load_data()\n",
        "    rotate_train = rng.choice(2, size=x_train.shape[0]).astype(numpy.bool)\n",
        "    rotate_test = rng.choice(2, size=x_test.shape[0]).astype(numpy.bool)\n",
        "    x_train = batch_rotate(x_train, rotate_train)\n",
        "    x_test = batch_rotate(x_test, rotate_test)\n",
        "    y_train = to_categorical(y_train)\n",
        "    y_test = to_categorical(y_test)\n",
        "    rotate_train = rotate_train.reshape((-1, 1))\n",
        "    rotate_test = rotate_test.reshape((-1, 1))\n",
        "    return x_train, x_test, y_train, y_test, rotate_train, rotate_test\n",
        "  \n",
        "x_train, x_test, y_train, y_test, y_rot_train, y_rot_test = prepare_mnist()\n",
        "y_rot_train = y_rot_train*1\n",
        "y_rot_test = y_rot_test*1\n",
        "print(x_train.shape, y_train.shape, y_rot_train.shape)"
      ],
      "execution_count": 2,
      "outputs": [
        {
          "output_type": "stream",
          "text": [
            "(60000, 28, 28, 1) (60000, 10) (60000, 1)\n"
          ],
          "name": "stdout"
        }
      ]
    },
    {
      "cell_type": "markdown",
      "metadata": {
        "id": "jFBiuzN_Gczu",
        "colab_type": "text"
      },
      "source": [
        "List of hyperparameters"
      ]
    },
    {
      "cell_type": "code",
      "metadata": {
        "id": "3VSQHtYxJlf_",
        "colab_type": "code",
        "colab": {}
      },
      "source": [
        "#Input shape 28x28 (image size) + channel = 1\n",
        "input_shape = [x_train.shape[1],x_train.shape[2],x_train.shape[3]]\n",
        "\n",
        "#Batch size giving computer power = 128\n",
        "batch_size = 128\n",
        "\n",
        "#To save time number of epochs = 5\n",
        "num_epoch = 5\n",
        "\n",
        "#Optimizer ADAM\n",
        "opt = keras.optimizers.Adam() \n",
        "\n",
        "#Loss function for digit output = categorical_crossentropy (multiclassification problem) and \n",
        "#for rotation output loss function = binary_crossentropy (binary classification problem)\n",
        "losses = {\"digit_output\": \"categorical_crossentropy\", \"rotation_output\": \"binary_crossentropy\"}"
      ],
      "execution_count": 0,
      "outputs": []
    },
    {
      "cell_type": "markdown",
      "metadata": {
        "id": "WtjGPOGyIBM1",
        "colab_type": "text"
      },
      "source": [
        "**Model architecture**"
      ]
    },
    {
      "cell_type": "markdown",
      "metadata": {
        "id": "TbvXFw3OINOw",
        "colab_type": "text"
      },
      "source": [
        "1. Choose the number of neurons in the Dense layer"
      ]
    },
    {
      "cell_type": "code",
      "metadata": {
        "id": "IVH3ozDrJXeG",
        "colab_type": "code",
        "outputId": "f07a99e9-03ad-4073-c3b5-700e875a942f",
        "colab": {
          "base_uri": "https://localhost:8080/",
          "height": 836
        }
      },
      "source": [
        "NN = 8 #number of neural nets\n",
        "model = [0] * NN\n",
        "model_log = [0] * NN\n",
        "\n",
        "for j in range(NN):\n",
        "  #input layer\n",
        "  input_layer = Input(shape=input_shape) \n",
        "\n",
        "  #1st convolution-pooling pair\n",
        "  Conv_1 = Conv2D(32, kernel_size=(3, 3),activation='relu')(input_layer)\n",
        "  Max_Pooling_1 = MaxPool2D()(Conv_1)\n",
        "\n",
        "  #2nd convolution-pooling pair\n",
        "  Conv_2 = Conv2D(64, (3, 3), activation='relu')(Max_Pooling_1)\n",
        "  Max_Pooling_2 = MaxPool2D()(Conv_2)\n",
        "\n",
        "  #Flattening\n",
        "  Flat = Flatten()(Max_Pooling_2)\n",
        "\n",
        "  #Dense layer\n",
        "  Dense_1 = Dense(2**(j+4), activation='relu')(Flat)\n",
        "\n",
        "  #Output layers\n",
        "\n",
        "  #1. digit recognition\n",
        "  digit_output = Dense(y_train.shape[1], activation='softmax', name = 'digit_output')(Dense_1)\n",
        "\n",
        "  #2. rotation recognition\n",
        "  rotation_output = Dense(y_rot_train.shape[1], activation='sigmoid', name = 'rotation_output')(Dense_1)\n",
        "\n",
        "  #model compilation\n",
        "  model[j] = Model(inputs=input_layer, outputs=[digit_output, rotation_output])\n",
        "  model[j].compile(loss=losses,optimizer=opt,metrics=['accuracy']) #accuracy for classification problem\n",
        "\n",
        "\n",
        "  model_log[j] = model[j].fit(x_train,\n",
        "\t{\"digit_output\": y_train, \"rotation_output\": y_rot_train},\n",
        "\tvalidation_data=(x_test,\n",
        "\t\t{\"digit_output\": y_test, \"rotation_output\": y_rot_test}),\n",
        "          batch_size=batch_size,\n",
        "          epochs=num_epoch,\n",
        "          verbose=1)"
      ],
      "execution_count": 0,
      "outputs": [
        {
          "output_type": "stream",
          "text": [
            "Train on 60000 samples, validate on 10000 samples\n",
            "Epoch 1/5\n",
            "60000/60000 [==============================] - 41s 685us/step - loss: 0.7119 - digit_output_loss: 0.6189 - rotation_output_loss: 0.0928 - digit_output_accuracy: 0.8041 - rotation_output_accuracy: 0.9675 - val_loss: 0.2545 - val_digit_output_loss: 0.2175 - val_rotation_output_loss: 0.0346 - val_digit_output_accuracy: 0.9340 - val_rotation_output_accuracy: 0.9888\n",
            "Epoch 2/5\n",
            "60000/60000 [==============================] - 41s 681us/step - loss: 0.2073 - digit_output_loss: 0.1811 - rotation_output_loss: 0.0262 - digit_output_accuracy: 0.9465 - rotation_output_accuracy: 0.9909 - val_loss: 0.1675 - val_digit_output_loss: 0.1454 - val_rotation_output_loss: 0.0207 - val_digit_output_accuracy: 0.9540 - val_rotation_output_accuracy: 0.9934\n",
            "Epoch 3/5\n",
            "60000/60000 [==============================] - 41s 678us/step - loss: 0.1478 - digit_output_loss: 0.1280 - rotation_output_loss: 0.0198 - digit_output_accuracy: 0.9613 - rotation_output_accuracy: 0.9929 - val_loss: 0.1496 - val_digit_output_loss: 0.1207 - val_rotation_output_loss: 0.0274 - val_digit_output_accuracy: 0.9604 - val_rotation_output_accuracy: 0.9905\n",
            "Epoch 4/5\n",
            "60000/60000 [==============================] - 41s 681us/step - loss: 0.1171 - digit_output_loss: 0.1026 - rotation_output_loss: 0.0144 - digit_output_accuracy: 0.9692 - rotation_output_accuracy: 0.9949 - val_loss: 0.1120 - val_digit_output_loss: 0.0932 - val_rotation_output_loss: 0.0176 - val_digit_output_accuracy: 0.9695 - val_rotation_output_accuracy: 0.9940\n",
            "Epoch 5/5\n",
            "60000/60000 [==============================] - 41s 678us/step - loss: 0.0958 - digit_output_loss: 0.0843 - rotation_output_loss: 0.0115 - digit_output_accuracy: 0.9743 - rotation_output_accuracy: 0.9961 - val_loss: 0.0899 - val_digit_output_loss: 0.0715 - val_rotation_output_loss: 0.0173 - val_digit_output_accuracy: 0.9759 - val_rotation_output_accuracy: 0.9939\n",
            "Train on 60000 samples, validate on 10000 samples\n",
            "Epoch 1/5\n",
            "60000/60000 [==============================] - 41s 692us/step - loss: 0.3316 - digit_output_loss: 0.2797 - rotation_output_loss: 0.0518 - digit_output_accuracy: 0.9101 - rotation_output_accuracy: 0.9801 - val_loss: 0.1185 - val_digit_output_loss: 0.0954 - val_rotation_output_loss: 0.0219 - val_digit_output_accuracy: 0.9687 - val_rotation_output_accuracy: 0.9916\n",
            "Epoch 2/5\n",
            "60000/60000 [==============================] - 45s 756us/step - loss: 0.1070 - digit_output_loss: 0.0926 - rotation_output_loss: 0.0144 - digit_output_accuracy: 0.9722 - rotation_output_accuracy: 0.9952 - val_loss: 0.0918 - val_digit_output_loss: 0.0742 - val_rotation_output_loss: 0.0167 - val_digit_output_accuracy: 0.9768 - val_rotation_output_accuracy: 0.9945\n",
            "Epoch 3/5\n",
            "60000/60000 [==============================] - 41s 681us/step - loss: 0.0783 - digit_output_loss: 0.0681 - rotation_output_loss: 0.0102 - digit_output_accuracy: 0.9789 - rotation_output_accuracy: 0.9963 - val_loss: 0.0946 - val_digit_output_loss: 0.0755 - val_rotation_output_loss: 0.0181 - val_digit_output_accuracy: 0.9749 - val_rotation_output_accuracy: 0.9946\n",
            "Epoch 4/5\n",
            "60000/60000 [==============================] - 41s 682us/step - loss: 0.0620 - digit_output_loss: 0.0540 - rotation_output_loss: 0.0080 - digit_output_accuracy: 0.9834 - rotation_output_accuracy: 0.9973 - val_loss: 0.0726 - val_digit_output_loss: 0.0588 - val_rotation_output_loss: 0.0130 - val_digit_output_accuracy: 0.9824 - val_rotation_output_accuracy: 0.9956\n",
            "Epoch 5/5\n",
            "60000/60000 [==============================] - 42s 699us/step - loss: 0.0497 - digit_output_loss: 0.0438 - rotation_output_loss: 0.0059 - digit_output_accuracy: 0.9865 - rotation_output_accuracy: 0.9979 - val_loss: 0.0677 - val_digit_output_loss: 0.0537 - val_rotation_output_loss: 0.0133 - val_digit_output_accuracy: 0.9828 - val_rotation_output_accuracy: 0.9952\n",
            "Train on 60000 samples, validate on 10000 samples\n",
            "Epoch 1/5\n",
            "60000/60000 [==============================] - 42s 705us/step - loss: 0.2496 - digit_output_loss: 0.2085 - rotation_output_loss: 0.0411 - digit_output_accuracy: 0.9335 - rotation_output_accuracy: 0.9848 - val_loss: 0.0879 - val_digit_output_loss: 0.0720 - val_rotation_output_loss: 0.0149 - val_digit_output_accuracy: 0.9754 - val_rotation_output_accuracy: 0.9944\n",
            "Epoch 2/5\n",
            "60000/60000 [==============================] - 42s 704us/step - loss: 0.0785 - digit_output_loss: 0.0667 - rotation_output_loss: 0.0118 - digit_output_accuracy: 0.9794 - rotation_output_accuracy: 0.9959 - val_loss: 0.0684 - val_digit_output_loss: 0.0568 - val_rotation_output_loss: 0.0110 - val_digit_output_accuracy: 0.9808 - val_rotation_output_accuracy: 0.9954\n",
            "Epoch 3/5\n",
            "60000/60000 [==============================] - 42s 703us/step - loss: 0.0547 - digit_output_loss: 0.0469 - rotation_output_loss: 0.0077 - digit_output_accuracy: 0.9854 - rotation_output_accuracy: 0.9972 - val_loss: 0.0632 - val_digit_output_loss: 0.0518 - val_rotation_output_loss: 0.0107 - val_digit_output_accuracy: 0.9819 - val_rotation_output_accuracy: 0.9961\n",
            "Epoch 4/5\n",
            "60000/60000 [==============================] - 41s 690us/step - loss: 0.0412 - digit_output_loss: 0.0352 - rotation_output_loss: 0.0060 - digit_output_accuracy: 0.9890 - rotation_output_accuracy: 0.9978 - val_loss: 0.0611 - val_digit_output_loss: 0.0509 - val_rotation_output_loss: 0.0095 - val_digit_output_accuracy: 0.9828 - val_rotation_output_accuracy: 0.9961\n",
            "Epoch 5/5\n",
            "60000/60000 [==============================] - 42s 694us/step - loss: 0.0321 - digit_output_loss: 0.0274 - rotation_output_loss: 0.0047 - digit_output_accuracy: 0.9913 - rotation_output_accuracy: 0.9984 - val_loss: 0.0513 - val_digit_output_loss: 0.0420 - val_rotation_output_loss: 0.0087 - val_digit_output_accuracy: 0.9861 - val_rotation_output_accuracy: 0.9970\n",
            "Train on 60000 samples, validate on 10000 samples\n",
            "Epoch 1/5\n",
            "60000/60000 [==============================] - 42s 706us/step - loss: 0.2341 - digit_output_loss: 0.1916 - rotation_output_loss: 0.0425 - digit_output_accuracy: 0.9388 - rotation_output_accuracy: 0.9842 - val_loss: 0.0801 - val_digit_output_loss: 0.0633 - val_rotation_output_loss: 0.0160 - val_digit_output_accuracy: 0.9792 - val_rotation_output_accuracy: 0.9943\n",
            "Epoch 2/5\n",
            "60000/60000 [==============================] - 42s 694us/step - loss: 0.0652 - digit_output_loss: 0.0539 - rotation_output_loss: 0.0113 - digit_output_accuracy: 0.9834 - rotation_output_accuracy: 0.9962 - val_loss: 0.0593 - val_digit_output_loss: 0.0465 - val_rotation_output_loss: 0.0122 - val_digit_output_accuracy: 0.9839 - val_rotation_output_accuracy: 0.9958\n",
            "Epoch 3/5\n",
            "60000/60000 [==============================] - 42s 702us/step - loss: 0.0427 - digit_output_loss: 0.0358 - rotation_output_loss: 0.0069 - digit_output_accuracy: 0.9887 - rotation_output_accuracy: 0.9977 - val_loss: 0.0576 - val_digit_output_loss: 0.0435 - val_rotation_output_loss: 0.0135 - val_digit_output_accuracy: 0.9853 - val_rotation_output_accuracy: 0.9956\n",
            "Epoch 4/5\n",
            "60000/60000 [==============================] - 42s 706us/step - loss: 0.0292 - digit_output_loss: 0.0250 - rotation_output_loss: 0.0042 - digit_output_accuracy: 0.9923 - rotation_output_accuracy: 0.9985 - val_loss: 0.0584 - val_digit_output_loss: 0.0463 - val_rotation_output_loss: 0.0114 - val_digit_output_accuracy: 0.9846 - val_rotation_output_accuracy: 0.9959\n",
            "Epoch 5/5\n",
            "60000/60000 [==============================] - 43s 713us/step - loss: 0.0229 - digit_output_loss: 0.0196 - rotation_output_loss: 0.0033 - digit_output_accuracy: 0.9937 - rotation_output_accuracy: 0.9988 - val_loss: 0.0526 - val_digit_output_loss: 0.0406 - val_rotation_output_loss: 0.0114 - val_digit_output_accuracy: 0.9862 - val_rotation_output_accuracy: 0.9965\n",
            "Train on 60000 samples, validate on 10000 samples\n",
            "Epoch 1/5\n",
            "57856/60000 [===========================>..] - ETA: 1s - loss: 0.2105 - digit_output_loss: 0.1739 - rotation_output_loss: 0.0367 - digit_output_accuracy: 0.9442 - rotation_output_accuracy: 0.9863"
          ],
          "name": "stdout"
        }
      ]
    },
    {
      "cell_type": "code",
      "metadata": {
        "id": "wsoU8zvMVC5w",
        "colab_type": "code",
        "colab": {
          "base_uri": "https://localhost:8080/",
          "height": 312
        },
        "outputId": "059047ab-0d4d-464b-b323-90e6da85da94"
      },
      "source": [
        "names = [\"0N\",\"32N\",\"64N\",\"128N\",\"256N\",\"512N\",\"1024N\",\"2048N\"]\n",
        "for j in range(NN):\n",
        "  print('CNN ', names[j], )"
      ],
      "execution_count": 24,
      "outputs": [
        {
          "output_type": "execute_result",
          "data": {
            "text/plain": [
              "<matplotlib.legend.Legend at 0x7fa614b3a240>"
            ]
          },
          "metadata": {
            "tags": []
          },
          "execution_count": 24
        },
        {
          "output_type": "display_data",
          "data": {
            "image/png": "[encoded data removed]",
            "text/plain": [
              "<Figure size 432x288 with 1 Axes>"
            ]
          },
          "metadata": {
            "tags": [],
            "needs_background": "light"
          }
        }
      ]
    },
    {
      "cell_type": "code",
      "metadata": {
        "id": "is1UiFcjNzIZ",
        "colab_type": "code",
        "colab": {
          "base_uri": "https://localhost:8080/",
          "height": 153
        },
        "outputId": "02e18f87-3f21-4534-8022-9ce8e8b77e0e"
      },
      "source": [
        "model_log"
      ],
      "execution_count": 23,
      "outputs": [
        {
          "output_type": "execute_result",
          "data": {
            "text/plain": [
              "[<keras.callbacks.callbacks.History at 0x7fa61564f940>,\n",
              " <keras.callbacks.callbacks.History at 0x7fa61516df60>,\n",
              " 0,\n",
              " 0,\n",
              " 0,\n",
              " 0,\n",
              " 0,\n",
              " 0]"
            ]
          },
          "metadata": {
            "tags": []
          },
          "execution_count": 23
        }
      ]
    },
    {
      "cell_type": "code",
      "metadata": {
        "id": "016ESx5sSbWt",
        "colab_type": "code",
        "outputId": "30b33a6e-37cc-4887-dd51-8ac04b448a9a",
        "colab": {
          "base_uri": "https://localhost:8080/",
          "height": 51
        }
      },
      "source": [
        "score = model.evaluate(x_test, y_test, verbose=0)\n",
        "print('Test loss:', score[0]) #Test loss: 0.0296396646054\n",
        "print('Test accuracy:', score[1]) #Test accuracy: 0.9904"
      ],
      "execution_count": 0,
      "outputs": [
        {
          "output_type": "stream",
          "text": [
            "Test loss: 0.07858740667637083\n",
            "Test accuracy: 0.9824000000953674\n"
          ],
          "name": "stdout"
        }
      ]
    },
    {
      "cell_type": "code",
      "metadata": {
        "id": "obLwzxvXSpNS",
        "colab_type": "code",
        "outputId": "88d77856-8712-4022-8bd2-65b3a9463090",
        "colab": {
          "base_uri": "https://localhost:8080/",
          "height": 312
        }
      },
      "source": [
        "plt.plot(model_log.history['accuracy'])\n",
        "plt.plot(model_log.history['val_accuracy'])\n",
        "plt.title('model accuracy')\n",
        "plt.ylabel('accuracy')\n",
        "plt.xlabel('epoch')\n",
        "plt.legend(['train', 'test'], loc='lower right')\n",
        "keras.utils.plot_model(model, 'my_first_model.png', show_shapes=True)"
      ],
      "execution_count": 0,
      "outputs": [
        {
          "output_type": "execute_result",
          "data": {
            "text/plain": [
              "<matplotlib.legend.Legend at 0x7fd834196160>"
            ]
          },
          "metadata": {
            "tags": []
          },
          "execution_count": 22
        },
        {
          "output_type": "display_data",
          "data": {
            "image/png": "[encoded data removed]",
            "text/plain": [
              "<Figure size 432x288 with 1 Axes>"
            ]
          },
          "metadata": {
            "tags": [],
            "needs_background": "light"
          }
        }
      ]
    }
  ]
}