{
  "nbformat": 4,
  "nbformat_minor": 0,
  "metadata": {
    "colab": {
      "name": "DL.ipynb",
      "provenance": [],
      "authorship_tag": "ABX9TyPnHH/yD5fjOT53nzPfAg/6",
      "include_colab_link": true
    },
    "kernelspec": {
      "name": "python3",
      "display_name": "Python 3"
    }
  },
  "cells": [
    {
      "cell_type": "markdown",
      "metadata": {
        "id": "view-in-github",
        "colab_type": "text"
      },
      "source": [
        "<a href=\"https://colab.research.google.com/github/PomazkinG/Particle/blob/master/DL.ipynb\" target=\"_parent\"><img src=\"https://colab.research.google.com/assets/colab-badge.svg\" alt=\"Open In Colab\"/></a>"
      ]
    },
    {
      "cell_type": "markdown",
      "metadata": {
        "id": "NWSE3D9BDAxb",
        "colab_type": "text"
      },
      "source": [
        "Take-home lab session by Pomazkin Grigorii\n",
        "\n",
        "Student id: 66904\n",
        "\n",
        "Input data: images of handwritten digits rotated and not rotated\n",
        "\n",
        "Expected output: 2 classification results - digit (e.g. 1,2,3) and rotated or not (0 or 1)"
      ]
    },
    {
      "cell_type": "code",
      "metadata": {
        "id": "W5hr5ZoMH2KE",
        "colab_type": "code",
        "colab": {}
      },
      "source": [
        "import numpy\n",
        "from tensorflow.keras.datasets import mnist\n",
        "from tensorflow.keras.utils import to_categorical\n",
        "from tensorflow.image import rot90\n",
        "import pandas as pd\n",
        "import keras\n",
        "from keras.models import Sequential\n",
        "from keras.models import Model\n",
        "from keras.layers import Input, Dense, BatchNormalization, Conv2D, MaxPool2D, GlobalMaxPool2D, Dropout, Flatten\n",
        "from matplotlib import pyplot as plt"
      ],
      "execution_count": 0,
      "outputs": []
    },
    {
      "cell_type": "markdown",
      "metadata": {
        "id": "7JnCF-zXEb8Z",
        "colab_type": "text"
      },
      "source": [
        "Download and prepare MNIST dataset"
      ]
    },
    {
      "cell_type": "code",
      "metadata": {
        "id": "xQlA4E10LBi-",
        "colab_type": "code",
        "outputId": "9d38bab2-ad7e-4b7c-d9c9-002c155000c0",
        "colab": {
          "base_uri": "https://localhost:8080/",
          "height": 34
        }
      },
      "source": [
        "def batch_rotate(images, indices):\n",
        "    images_with_channel = images[:, :, :, numpy.newaxis]\n",
        "    images_with_channel[indices] = rot90(images_with_channel[indices])\n",
        "    return images_with_channel / 255.\n",
        "\n",
        "def prepare_mnist():\n",
        "    rng = numpy.random.RandomState(0)\n",
        "    (x_train, y_train), (x_test, y_test) = mnist.load_data()\n",
        "    rotate_train = rng.choice(2, size=x_train.shape[0]).astype(numpy.bool)\n",
        "    rotate_test = rng.choice(2, size=x_test.shape[0]).astype(numpy.bool)\n",
        "    x_train = batch_rotate(x_train, rotate_train)\n",
        "    x_test = batch_rotate(x_test, rotate_test)\n",
        "    y_train = to_categorical(y_train)\n",
        "    y_test = to_categorical(y_test)\n",
        "    rotate_train = rotate_train.reshape((-1, 1))\n",
        "    rotate_test = rotate_test.reshape((-1, 1))\n",
        "    return x_train, x_test, y_train, y_test, rotate_train, rotate_test\n",
        "  \n",
        "x_train, x_test, y_train, y_test, y_rot_train, y_rot_test = prepare_mnist()\n",
        "y_rot_train = y_rot_train*1\n",
        "y_rot_test = y_rot_test*1\n",
        "print(x_train.shape, y_train.shape, y_rot_train.shape)"
      ],
      "execution_count": 2,
      "outputs": [
        {
          "output_type": "stream",
          "text": [
            "(60000, 28, 28, 1) (60000, 10) (60000, 1)\n"
          ],
          "name": "stdout"
        }
      ]
    },
    {
      "cell_type": "markdown",
      "metadata": {
        "id": "jFBiuzN_Gczu",
        "colab_type": "text"
      },
      "source": [
        "List of hyperparameters"
      ]
    },
    {
      "cell_type": "code",
      "metadata": {
        "id": "3VSQHtYxJlf_",
        "colab_type": "code",
        "colab": {}
      },
      "source": [
        "#Input shape 28x28 (image size) + channel = 1\n",
        "input_shape = [x_train.shape[1],x_train.shape[2],x_train.shape[3]]\n",
        "\n",
        "#Batch size giving computer power = 128\n",
        "batch_size = 128\n",
        "\n",
        "#To save time number of epochs = 5\n",
        "num_epoch = 5\n",
        "\n",
        "#Optimizer ADAM\n",
        "opt = keras.optimizers.Adam() \n",
        "\n",
        "#Loss function for digit output = categorical_crossentropy (multiclassification problem) and \n",
        "#for rotation output loss function = binary_crossentropy (binary classification problem)\n",
        "losses = {\"digit_output\": \"categorical_crossentropy\", \"rotation_output\": \"binary_crossentropy\"}"
      ],
      "execution_count": 0,
      "outputs": []
    },
    {
      "cell_type": "markdown",
      "metadata": {
        "id": "WtjGPOGyIBM1",
        "colab_type": "text"
      },
      "source": [
        "**Model architecture**"
      ]
    },
    {
      "cell_type": "markdown",
      "metadata": {
        "id": "TbvXFw3OINOw",
        "colab_type": "text"
      },
      "source": [
        "1. Choose the number of neurons in the Dense layer"
      ]
    },
    {
      "cell_type": "code",
      "metadata": {
        "id": "IVH3ozDrJXeG",
        "colab_type": "code",
        "outputId": "f07a99e9-03ad-4073-c3b5-700e875a942f",
        "colab": {
          "base_uri": "https://localhost:8080/",
          "height": 1000
        }
      },
      "source": [
        "NN = 8 #number of neural nets\n",
        "model = [0] * NN\n",
        "model_log = [0] * NN\n",
        "\n",
        "for j in range(NN):\n",
        "  #input layer\n",
        "  input_layer = Input(shape=input_shape) \n",
        "\n",
        "  #1st convolution-pooling pair\n",
        "  Conv_1 = Conv2D(32, kernel_size=(3, 3),activation='relu')(input_layer)\n",
        "  Max_Pooling_1 = MaxPool2D()(Conv_1)\n",
        "\n",
        "  #2nd convolution-pooling pair\n",
        "  Conv_2 = Conv2D(64, (3, 3), activation='relu')(Max_Pooling_1)\n",
        "  Max_Pooling_2 = MaxPool2D()(Conv_2)\n",
        "\n",
        "  #Flattening\n",
        "  Flat = Flatten()(Max_Pooling_2)\n",
        "\n",
        "  #Dense layer\n",
        "  Dense_1 = Dense(2**(j+4), activation='relu')(Flat)\n",
        "\n",
        "  #Output layers\n",
        "\n",
        "  #1. digit recognition\n",
        "  digit_output = Dense(y_train.shape[1], activation='softmax', name = 'digit_output')(Dense_1)\n",
        "\n",
        "  #2. rotation recognition\n",
        "  rotation_output = Dense(y_rot_train.shape[1], activation='sigmoid', name = 'rotation_output')(Dense_1)\n",
        "\n",
        "  #model compilation\n",
        "  model[j] = Model(inputs=input_layer, outputs=[digit_output, rotation_output])\n",
        "  model[j].compile(loss=losses,optimizer=opt,metrics=['accuracy']) #accuracy for classification problem\n",
        "\n",
        "\n",
        "  model_log[j] = model[j].fit(x_train,\n",
        "\t{\"digit_output\": y_train, \"rotation_output\": y_rot_train},\n",
        "\tvalidation_data=(x_test,\n",
        "\t\t{\"digit_output\": y_test, \"rotation_output\": y_rot_test}),\n",
        "          batch_size=batch_size,\n",
        "          epochs=num_epoch,\n",
        "          verbose=1)"
      ],
      "execution_count": 26,
      "outputs": [
        {
          "output_type": "stream",
          "text": [
            "Train on 60000 samples, validate on 10000 samples\n",
            "Epoch 1/5\n",
            "60000/60000 [==============================] - 41s 685us/step - loss: 0.7119 - digit_output_loss: 0.6189 - rotation_output_loss: 0.0928 - digit_output_accuracy: 0.8041 - rotation_output_accuracy: 0.9675 - val_loss: 0.2545 - val_digit_output_loss: 0.2175 - val_rotation_output_loss: 0.0346 - val_digit_output_accuracy: 0.9340 - val_rotation_output_accuracy: 0.9888\n",
            "Epoch 2/5\n",
            "60000/60000 [==============================] - 41s 681us/step - loss: 0.2073 - digit_output_loss: 0.1811 - rotation_output_loss: 0.0262 - digit_output_accuracy: 0.9465 - rotation_output_accuracy: 0.9909 - val_loss: 0.1675 - val_digit_output_loss: 0.1454 - val_rotation_output_loss: 0.0207 - val_digit_output_accuracy: 0.9540 - val_rotation_output_accuracy: 0.9934\n",
            "Epoch 3/5\n",
            "60000/60000 [==============================] - 41s 678us/step - loss: 0.1478 - digit_output_loss: 0.1280 - rotation_output_loss: 0.0198 - digit_output_accuracy: 0.9613 - rotation_output_accuracy: 0.9929 - val_loss: 0.1496 - val_digit_output_loss: 0.1207 - val_rotation_output_loss: 0.0274 - val_digit_output_accuracy: 0.9604 - val_rotation_output_accuracy: 0.9905\n",
            "Epoch 4/5\n",
            "60000/60000 [==============================] - 41s 681us/step - loss: 0.1171 - digit_output_loss: 0.1026 - rotation_output_loss: 0.0144 - digit_output_accuracy: 0.9692 - rotation_output_accuracy: 0.9949 - val_loss: 0.1120 - val_digit_output_loss: 0.0932 - val_rotation_output_loss: 0.0176 - val_digit_output_accuracy: 0.9695 - val_rotation_output_accuracy: 0.9940\n",
            "Epoch 5/5\n",
            "60000/60000 [==============================] - 41s 678us/step - loss: 0.0958 - digit_output_loss: 0.0843 - rotation_output_loss: 0.0115 - digit_output_accuracy: 0.9743 - rotation_output_accuracy: 0.9961 - val_loss: 0.0899 - val_digit_output_loss: 0.0715 - val_rotation_output_loss: 0.0173 - val_digit_output_accuracy: 0.9759 - val_rotation_output_accuracy: 0.9939\n",
            "Train on 60000 samples, validate on 10000 samples\n",
            "Epoch 1/5\n",
            "60000/60000 [==============================] - 41s 692us/step - loss: 0.3316 - digit_output_loss: 0.2797 - rotation_output_loss: 0.0518 - digit_output_accuracy: 0.9101 - rotation_output_accuracy: 0.9801 - val_loss: 0.1185 - val_digit_output_loss: 0.0954 - val_rotation_output_loss: 0.0219 - val_digit_output_accuracy: 0.9687 - val_rotation_output_accuracy: 0.9916\n",
            "Epoch 2/5\n",
            "60000/60000 [==============================] - 45s 756us/step - loss: 0.1070 - digit_output_loss: 0.0926 - rotation_output_loss: 0.0144 - digit_output_accuracy: 0.9722 - rotation_output_accuracy: 0.9952 - val_loss: 0.0918 - val_digit_output_loss: 0.0742 - val_rotation_output_loss: 0.0167 - val_digit_output_accuracy: 0.9768 - val_rotation_output_accuracy: 0.9945\n",
            "Epoch 3/5\n",
            "60000/60000 [==============================] - 41s 681us/step - loss: 0.0783 - digit_output_loss: 0.0681 - rotation_output_loss: 0.0102 - digit_output_accuracy: 0.9789 - rotation_output_accuracy: 0.9963 - val_loss: 0.0946 - val_digit_output_loss: 0.0755 - val_rotation_output_loss: 0.0181 - val_digit_output_accuracy: 0.9749 - val_rotation_output_accuracy: 0.9946\n",
            "Epoch 4/5\n",
            "60000/60000 [==============================] - 41s 682us/step - loss: 0.0620 - digit_output_loss: 0.0540 - rotation_output_loss: 0.0080 - digit_output_accuracy: 0.9834 - rotation_output_accuracy: 0.9973 - val_loss: 0.0726 - val_digit_output_loss: 0.0588 - val_rotation_output_loss: 0.0130 - val_digit_output_accuracy: 0.9824 - val_rotation_output_accuracy: 0.9956\n",
            "Epoch 5/5\n",
            "60000/60000 [==============================] - 42s 699us/step - loss: 0.0497 - digit_output_loss: 0.0438 - rotation_output_loss: 0.0059 - digit_output_accuracy: 0.9865 - rotation_output_accuracy: 0.9979 - val_loss: 0.0677 - val_digit_output_loss: 0.0537 - val_rotation_output_loss: 0.0133 - val_digit_output_accuracy: 0.9828 - val_rotation_output_accuracy: 0.9952\n",
            "Train on 60000 samples, validate on 10000 samples\n",
            "Epoch 1/5\n",
            "60000/60000 [==============================] - 42s 705us/step - loss: 0.2496 - digit_output_loss: 0.2085 - rotation_output_loss: 0.0411 - digit_output_accuracy: 0.9335 - rotation_output_accuracy: 0.9848 - val_loss: 0.0879 - val_digit_output_loss: 0.0720 - val_rotation_output_loss: 0.0149 - val_digit_output_accuracy: 0.9754 - val_rotation_output_accuracy: 0.9944\n",
            "Epoch 2/5\n",
            "60000/60000 [==============================] - 42s 704us/step - loss: 0.0785 - digit_output_loss: 0.0667 - rotation_output_loss: 0.0118 - digit_output_accuracy: 0.9794 - rotation_output_accuracy: 0.9959 - val_loss: 0.0684 - val_digit_output_loss: 0.0568 - val_rotation_output_loss: 0.0110 - val_digit_output_accuracy: 0.9808 - val_rotation_output_accuracy: 0.9954\n",
            "Epoch 3/5\n",
            "60000/60000 [==============================] - 42s 703us/step - loss: 0.0547 - digit_output_loss: 0.0469 - rotation_output_loss: 0.0077 - digit_output_accuracy: 0.9854 - rotation_output_accuracy: 0.9972 - val_loss: 0.0632 - val_digit_output_loss: 0.0518 - val_rotation_output_loss: 0.0107 - val_digit_output_accuracy: 0.9819 - val_rotation_output_accuracy: 0.9961\n",
            "Epoch 4/5\n",
            "60000/60000 [==============================] - 41s 690us/step - loss: 0.0412 - digit_output_loss: 0.0352 - rotation_output_loss: 0.0060 - digit_output_accuracy: 0.9890 - rotation_output_accuracy: 0.9978 - val_loss: 0.0611 - val_digit_output_loss: 0.0509 - val_rotation_output_loss: 0.0095 - val_digit_output_accuracy: 0.9828 - val_rotation_output_accuracy: 0.9961\n",
            "Epoch 5/5\n",
            "60000/60000 [==============================] - 42s 694us/step - loss: 0.0321 - digit_output_loss: 0.0274 - rotation_output_loss: 0.0047 - digit_output_accuracy: 0.9913 - rotation_output_accuracy: 0.9984 - val_loss: 0.0513 - val_digit_output_loss: 0.0420 - val_rotation_output_loss: 0.0087 - val_digit_output_accuracy: 0.9861 - val_rotation_output_accuracy: 0.9970\n",
            "Train on 60000 samples, validate on 10000 samples\n",
            "Epoch 1/5\n",
            "60000/60000 [==============================] - 42s 706us/step - loss: 0.2341 - digit_output_loss: 0.1916 - rotation_output_loss: 0.0425 - digit_output_accuracy: 0.9388 - rotation_output_accuracy: 0.9842 - val_loss: 0.0801 - val_digit_output_loss: 0.0633 - val_rotation_output_loss: 0.0160 - val_digit_output_accuracy: 0.9792 - val_rotation_output_accuracy: 0.9943\n",
            "Epoch 2/5\n",
            "60000/60000 [==============================] - 42s 694us/step - loss: 0.0652 - digit_output_loss: 0.0539 - rotation_output_loss: 0.0113 - digit_output_accuracy: 0.9834 - rotation_output_accuracy: 0.9962 - val_loss: 0.0593 - val_digit_output_loss: 0.0465 - val_rotation_output_loss: 0.0122 - val_digit_output_accuracy: 0.9839 - val_rotation_output_accuracy: 0.9958\n",
            "Epoch 3/5\n",
            "60000/60000 [==============================] - 42s 702us/step - loss: 0.0427 - digit_output_loss: 0.0358 - rotation_output_loss: 0.0069 - digit_output_accuracy: 0.9887 - rotation_output_accuracy: 0.9977 - val_loss: 0.0576 - val_digit_output_loss: 0.0435 - val_rotation_output_loss: 0.0135 - val_digit_output_accuracy: 0.9853 - val_rotation_output_accuracy: 0.9956\n",
            "Epoch 4/5\n",
            "60000/60000 [==============================] - 42s 706us/step - loss: 0.0292 - digit_output_loss: 0.0250 - rotation_output_loss: 0.0042 - digit_output_accuracy: 0.9923 - rotation_output_accuracy: 0.9985 - val_loss: 0.0584 - val_digit_output_loss: 0.0463 - val_rotation_output_loss: 0.0114 - val_digit_output_accuracy: 0.9846 - val_rotation_output_accuracy: 0.9959\n",
            "Epoch 5/5\n",
            "60000/60000 [==============================] - 43s 713us/step - loss: 0.0229 - digit_output_loss: 0.0196 - rotation_output_loss: 0.0033 - digit_output_accuracy: 0.9937 - rotation_output_accuracy: 0.9988 - val_loss: 0.0526 - val_digit_output_loss: 0.0406 - val_rotation_output_loss: 0.0114 - val_digit_output_accuracy: 0.9862 - val_rotation_output_accuracy: 0.9965\n",
            "Train on 60000 samples, validate on 10000 samples\n",
            "Epoch 1/5\n",
            "60000/60000 [==============================] - 51s 848us/step - loss: 0.2056 - digit_output_loss: 0.1697 - rotation_output_loss: 0.0358 - digit_output_accuracy: 0.9456 - rotation_output_accuracy: 0.9867 - val_loss: 0.0703 - val_digit_output_loss: 0.0536 - val_rotation_output_loss: 0.0159 - val_digit_output_accuracy: 0.9823 - val_rotation_output_accuracy: 0.9946\n",
            "Epoch 2/5\n",
            "60000/60000 [==============================] - 46s 761us/step - loss: 0.0556 - digit_output_loss: 0.0466 - rotation_output_loss: 0.0090 - digit_output_accuracy: 0.9856 - rotation_output_accuracy: 0.9967 - val_loss: 0.0600 - val_digit_output_loss: 0.0449 - val_rotation_output_loss: 0.0145 - val_digit_output_accuracy: 0.9844 - val_rotation_output_accuracy: 0.9950\n",
            "Epoch 3/5\n",
            "60000/60000 [==============================] - 46s 759us/step - loss: 0.0343 - digit_output_loss: 0.0282 - rotation_output_loss: 0.0060 - digit_output_accuracy: 0.9912 - rotation_output_accuracy: 0.9978 - val_loss: 0.0503 - val_digit_output_loss: 0.0393 - val_rotation_output_loss: 0.0104 - val_digit_output_accuracy: 0.9865 - val_rotation_output_accuracy: 0.9964\n",
            "Epoch 4/5\n",
            "60000/60000 [==============================] - 46s 768us/step - loss: 0.0230 - digit_output_loss: 0.0187 - rotation_output_loss: 0.0043 - digit_output_accuracy: 0.9942 - rotation_output_accuracy: 0.9987 - val_loss: 0.0464 - val_digit_output_loss: 0.0359 - val_rotation_output_loss: 0.0101 - val_digit_output_accuracy: 0.9877 - val_rotation_output_accuracy: 0.9968\n",
            "Epoch 5/5\n",
            "60000/60000 [==============================] - 46s 762us/step - loss: 0.0163 - digit_output_loss: 0.0129 - rotation_output_loss: 0.0033 - digit_output_accuracy: 0.9959 - rotation_output_accuracy: 0.9989 - val_loss: 0.0509 - val_digit_output_loss: 0.0370 - val_rotation_output_loss: 0.0134 - val_digit_output_accuracy: 0.9873 - val_rotation_output_accuracy: 0.9961\n",
            "Train on 60000 samples, validate on 10000 samples\n",
            "Epoch 1/5\n",
            "60000/60000 [==============================] - 49s 821us/step - loss: 0.2064 - digit_output_loss: 0.1685 - rotation_output_loss: 0.0379 - digit_output_accuracy: 0.9477 - rotation_output_accuracy: 0.9850 - val_loss: 0.0653 - val_digit_output_loss: 0.0503 - val_rotation_output_loss: 0.0143 - val_digit_output_accuracy: 0.9830 - val_rotation_output_accuracy: 0.9961\n",
            "Epoch 2/5\n",
            "60000/60000 [==============================] - 49s 825us/step - loss: 0.0502 - digit_output_loss: 0.0412 - rotation_output_loss: 0.0090 - digit_output_accuracy: 0.9874 - rotation_output_accuracy: 0.9968 - val_loss: 0.0525 - val_digit_output_loss: 0.0395 - val_rotation_output_loss: 0.0124 - val_digit_output_accuracy: 0.9867 - val_rotation_output_accuracy: 0.9961\n",
            "Epoch 3/5\n",
            "60000/60000 [==============================] - 49s 817us/step - loss: 0.0293 - digit_output_loss: 0.0238 - rotation_output_loss: 0.0055 - digit_output_accuracy: 0.9925 - rotation_output_accuracy: 0.9980 - val_loss: 0.0506 - val_digit_output_loss: 0.0385 - val_rotation_output_loss: 0.0115 - val_digit_output_accuracy: 0.9872 - val_rotation_output_accuracy: 0.9958\n",
            "Epoch 4/5\n",
            "60000/60000 [==============================] - 50s 826us/step - loss: 0.0195 - digit_output_loss: 0.0159 - rotation_output_loss: 0.0036 - digit_output_accuracy: 0.9949 - rotation_output_accuracy: 0.9989 - val_loss: 0.0548 - val_digit_output_loss: 0.0415 - val_rotation_output_loss: 0.0126 - val_digit_output_accuracy: 0.9862 - val_rotation_output_accuracy: 0.9955\n",
            "Epoch 5/5\n",
            "60000/60000 [==============================] - 50s 833us/step - loss: 0.0136 - digit_output_loss: 0.0106 - rotation_output_loss: 0.0030 - digit_output_accuracy: 0.9966 - rotation_output_accuracy: 0.9989 - val_loss: 0.0550 - val_digit_output_loss: 0.0429 - val_rotation_output_loss: 0.0115 - val_digit_output_accuracy: 0.9868 - val_rotation_output_accuracy: 0.9966\n",
            "Train on 60000 samples, validate on 10000 samples\n",
            "Epoch 1/5\n",
            "60000/60000 [==============================] - 60s 996us/step - loss: 0.1791 - digit_output_loss: 0.1452 - rotation_output_loss: 0.0339 - digit_output_accuracy: 0.9545 - rotation_output_accuracy: 0.9872 - val_loss: 0.0596 - val_digit_output_loss: 0.0446 - val_rotation_output_loss: 0.0144 - val_digit_output_accuracy: 0.9852 - val_rotation_output_accuracy: 0.9953\n",
            "Epoch 2/5\n",
            "60000/60000 [==============================] - 60s 1ms/step - loss: 0.0436 - digit_output_loss: 0.0352 - rotation_output_loss: 0.0083 - digit_output_accuracy: 0.9888 - rotation_output_accuracy: 0.9971 - val_loss: 0.0577 - val_digit_output_loss: 0.0446 - val_rotation_output_loss: 0.0124 - val_digit_output_accuracy: 0.9841 - val_rotation_output_accuracy: 0.9953\n",
            "Epoch 3/5\n",
            "60000/60000 [==============================] - 60s 996us/step - loss: 0.0251 - digit_output_loss: 0.0200 - rotation_output_loss: 0.0051 - digit_output_accuracy: 0.9937 - rotation_output_accuracy: 0.9983 - val_loss: 0.0505 - val_digit_output_loss: 0.0389 - val_rotation_output_loss: 0.0111 - val_digit_output_accuracy: 0.9878 - val_rotation_output_accuracy: 0.9963\n",
            "Epoch 4/5\n",
            "60000/60000 [==============================] - 60s 993us/step - loss: 0.0139 - digit_output_loss: 0.0104 - rotation_output_loss: 0.0034 - digit_output_accuracy: 0.9967 - rotation_output_accuracy: 0.9990 - val_loss: 0.0529 - val_digit_output_loss: 0.0421 - val_rotation_output_loss: 0.0102 - val_digit_output_accuracy: 0.9855 - val_rotation_output_accuracy: 0.9967\n",
            "Epoch 5/5\n",
            "60000/60000 [==============================] - 59s 991us/step - loss: 0.0104 - digit_output_loss: 0.0082 - rotation_output_loss: 0.0022 - digit_output_accuracy: 0.9973 - rotation_output_accuracy: 0.9993 - val_loss: 0.0577 - val_digit_output_loss: 0.0458 - val_rotation_output_loss: 0.0112 - val_digit_output_accuracy: 0.9872 - val_rotation_output_accuracy: 0.9969\n",
            "Train on 60000 samples, validate on 10000 samples\n",
            "Epoch 1/5\n",
            "60000/60000 [==============================] - 80s 1ms/step - loss: 0.2144 - digit_output_loss: 0.1699 - rotation_output_loss: 0.0445 - digit_output_accuracy: 0.9453 - rotation_output_accuracy: 0.9830 - val_loss: 0.0723 - val_digit_output_loss: 0.0527 - val_rotation_output_loss: 0.0190 - val_digit_output_accuracy: 0.9823 - val_rotation_output_accuracy: 0.9932\n",
            "Epoch 2/5\n",
            "60000/60000 [==============================] - 81s 1ms/step - loss: 0.0494 - digit_output_loss: 0.0404 - rotation_output_loss: 0.0091 - digit_output_accuracy: 0.9874 - rotation_output_accuracy: 0.9968 - val_loss: 0.0520 - val_digit_output_loss: 0.0383 - val_rotation_output_loss: 0.0131 - val_digit_output_accuracy: 0.9868 - val_rotation_output_accuracy: 0.9951\n",
            "Epoch 3/5\n",
            "60000/60000 [==============================] - 80s 1ms/step - loss: 0.0290 - digit_output_loss: 0.0230 - rotation_output_loss: 0.0060 - digit_output_accuracy: 0.9927 - rotation_output_accuracy: 0.9980 - val_loss: 0.0532 - val_digit_output_loss: 0.0400 - val_rotation_output_loss: 0.0126 - val_digit_output_accuracy: 0.9864 - val_rotation_output_accuracy: 0.9960\n",
            "Epoch 4/5\n",
            "60000/60000 [==============================] - 80s 1ms/step - loss: 0.0188 - digit_output_loss: 0.0154 - rotation_output_loss: 0.0035 - digit_output_accuracy: 0.9952 - rotation_output_accuracy: 0.9989 - val_loss: 0.0503 - val_digit_output_loss: 0.0387 - val_rotation_output_loss: 0.0111 - val_digit_output_accuracy: 0.9871 - val_rotation_output_accuracy: 0.9968\n",
            "Epoch 5/5\n",
            "60000/60000 [==============================] - 80s 1ms/step - loss: 0.0119 - digit_output_loss: 0.0093 - rotation_output_loss: 0.0026 - digit_output_accuracy: 0.9972 - rotation_output_accuracy: 0.9991 - val_loss: 0.0619 - val_digit_output_loss: 0.0467 - val_rotation_output_loss: 0.0146 - val_digit_output_accuracy: 0.9860 - val_rotation_output_accuracy: 0.9958\n"
          ],
          "name": "stdout"
        }
      ]
    },
    {
      "cell_type": "markdown",
      "metadata": {
        "id": "gRBl9hwwhfFz",
        "colab_type": "text"
      },
      "source": [
        "The best model is model with 64 neurons in the dense layer. After 64N rotation accuracy decreases while digit accuracy increases slightly."
      ]
    },
    {
      "cell_type": "code",
      "metadata": {
        "id": "wsoU8zvMVC5w",
        "colab_type": "code",
        "colab": {
          "base_uri": "https://localhost:8080/",
          "height": 153
        },
        "outputId": "dd84da56-d689-400b-e11d-77bf8137e68b"
      },
      "source": [
        "names = ['16N','32N','64N','128N','256N','512N','1024N','2048N']\n",
        "for j in range(NN):\n",
        "  print('CNN', names[j], 'Digit validation accuracy', round(max(model_log[j].history['val_digit_output_accuracy']),4), \n",
        "        'Rotation validation accuracy', round(max(model_log[j].history['val_rotation_output_accuracy']),4))"
      ],
      "execution_count": 34,
      "outputs": [
        {
          "output_type": "stream",
          "text": [
            "CNN 16N Digit validation accuracy 0.9759 Rotation validation accuracy 0.994\n",
            "CNN 32N Digit validation accuracy 0.9828 Rotation validation accuracy 0.9956\n",
            "CNN 64N Digit validation accuracy 0.9861 Rotation validation accuracy 0.997\n",
            "CNN 128N Digit validation accuracy 0.9862 Rotation validation accuracy 0.9965\n",
            "CNN 256N Digit validation accuracy 0.9877 Rotation validation accuracy 0.9968\n",
            "CNN 512N Digit validation accuracy 0.9872 Rotation validation accuracy 0.9966\n",
            "CNN 1024N Digit validation accuracy 0.9878 Rotation validation accuracy 0.9969\n",
            "CNN 2048N Digit validation accuracy 0.9871 Rotation validation accuracy 0.9968\n"
          ],
          "name": "stdout"
        }
      ]
    },
    {
      "cell_type": "markdown",
      "metadata": {
        "id": "KFHUwt3HiH_n",
        "colab_type": "text"
      },
      "source": [
        "2. Choose the dropout %"
      ]
    },
    {
      "cell_type": "code",
      "metadata": {
        "id": "xLXll900iS-8",
        "colab_type": "code",
        "colab": {
          "base_uri": "https://localhost:8080/",
          "height": 1000
        },
        "outputId": "89378ac7-b905-48cb-9610-fe8bac8cfcb2"
      },
      "source": [
        "NN = 8 #number of neural nets\n",
        "model = [0] * NN\n",
        "model_log = [0] * NN\n",
        "\n",
        "for j in range(NN):\n",
        "  #input layer\n",
        "  input_layer = Input(shape=input_shape) \n",
        "\n",
        "  #1st convolution-pooling pair\n",
        "  Conv_1 = Conv2D(32, kernel_size=(3, 3),activation='relu')(input_layer)\n",
        "  Max_Pooling_1 = MaxPool2D()(Conv_1)\n",
        "  Drop_1 = Dropout(j*0.1)(Max_Pooling_1)\n",
        "\n",
        "  #2nd convolution-pooling pair\n",
        "  Conv_2 = Conv2D(64, (3, 3), activation='relu')(Drop_1)\n",
        "  Max_Pooling_2 = MaxPool2D()(Conv_2)\n",
        "  Drop_2 = Dropout(j*0.1)(Max_Pooling_2)\n",
        "\n",
        "  #Flattening\n",
        "  Flat = Flatten()(Drop_2)\n",
        "\n",
        "  #Dense layer\n",
        "  Dense_1 = Dense(64, activation='relu')(Flat)\n",
        "  Drop_3 = Dropout(j*0.1)(Dense_1)\n",
        "\n",
        "  #Output layers\n",
        "\n",
        "  #1. digit recognition\n",
        "  digit_output = Dense(y_train.shape[1], activation='softmax', name = 'digit_output')(Drop_3)\n",
        "\n",
        "  #2. rotation recognition\n",
        "  rotation_output = Dense(y_rot_train.shape[1], activation='sigmoid', name = 'rotation_output')(Drop_3)\n",
        "\n",
        "  #model compilation\n",
        "  model[j] = Model(inputs=input_layer, outputs=[digit_output, rotation_output])\n",
        "  model[j].compile(loss=losses,optimizer=opt,metrics=['accuracy']) #accuracy for classification problem\n",
        "\n",
        "\n",
        "  model_log[j] = model[j].fit(x_train,\n",
        "\t{\"digit_output\": y_train, \"rotation_output\": y_rot_train},\n",
        "\tvalidation_data=(x_test,\n",
        "\t\t{\"digit_output\": y_test, \"rotation_output\": y_rot_test}),\n",
        "          batch_size=batch_size,\n",
        "          epochs=num_epoch,\n",
        "          verbose=1)"
      ],
      "execution_count": 37,
      "outputs": [
        {
          "output_type": "stream",
          "text": [
            "Train on 60000 samples, validate on 10000 samples\n",
            "Epoch 1/5\n",
            "60000/60000 [==============================] - 49s 817us/step - loss: 0.2523 - digit_output_loss: 0.2106 - rotation_output_loss: 0.0417 - digit_output_accuracy: 0.9339 - rotation_output_accuracy: 0.9852 - val_loss: 0.0875 - val_digit_output_loss: 0.0718 - val_rotation_output_loss: 0.0148 - val_digit_output_accuracy: 0.9763 - val_rotation_output_accuracy: 0.9946\n",
            "Epoch 2/5\n",
            "60000/60000 [==============================] - 44s 729us/step - loss: 0.0741 - digit_output_loss: 0.0625 - rotation_output_loss: 0.0116 - digit_output_accuracy: 0.9811 - rotation_output_accuracy: 0.9961 - val_loss: 0.0650 - val_digit_output_loss: 0.0535 - val_rotation_output_loss: 0.0108 - val_digit_output_accuracy: 0.9817 - val_rotation_output_accuracy: 0.9967\n",
            "Epoch 3/5\n",
            "60000/60000 [==============================] - 44s 727us/step - loss: 0.0498 - digit_output_loss: 0.0417 - rotation_output_loss: 0.0080 - digit_output_accuracy: 0.9872 - rotation_output_accuracy: 0.9972 - val_loss: 0.0583 - val_digit_output_loss: 0.0470 - val_rotation_output_loss: 0.0107 - val_digit_output_accuracy: 0.9837 - val_rotation_output_accuracy: 0.9957\n",
            "Epoch 4/5\n",
            "60000/60000 [==============================] - 41s 680us/step - loss: 0.0366 - digit_output_loss: 0.0308 - rotation_output_loss: 0.0057 - digit_output_accuracy: 0.9907 - rotation_output_accuracy: 0.9980 - val_loss: 0.0523 - val_digit_output_loss: 0.0416 - val_rotation_output_loss: 0.0102 - val_digit_output_accuracy: 0.9861 - val_rotation_output_accuracy: 0.9964\n",
            "Epoch 5/5\n",
            "60000/60000 [==============================] - 40s 662us/step - loss: 0.0273 - digit_output_loss: 0.0231 - rotation_output_loss: 0.0042 - digit_output_accuracy: 0.9928 - rotation_output_accuracy: 0.9984 - val_loss: 0.0544 - val_digit_output_loss: 0.0418 - val_rotation_output_loss: 0.0120 - val_digit_output_accuracy: 0.9851 - val_rotation_output_accuracy: 0.9963\n",
            "Train on 60000 samples, validate on 10000 samples\n",
            "Epoch 1/5\n",
            "60000/60000 [==============================] - 44s 726us/step - loss: 0.3199 - digit_output_loss: 0.2667 - rotation_output_loss: 0.0532 - digit_output_accuracy: 0.9166 - rotation_output_accuracy: 0.9809 - val_loss: 0.0912 - val_digit_output_loss: 0.0759 - val_rotation_output_loss: 0.0146 - val_digit_output_accuracy: 0.9745 - val_rotation_output_accuracy: 0.9942\n",
            "Epoch 2/5\n",
            "60000/60000 [==============================] - 43s 722us/step - loss: 0.1185 - digit_output_loss: 0.0990 - rotation_output_loss: 0.0195 - digit_output_accuracy: 0.9685 - rotation_output_accuracy: 0.9930 - val_loss: 0.0727 - val_digit_output_loss: 0.0580 - val_rotation_output_loss: 0.0139 - val_digit_output_accuracy: 0.9800 - val_rotation_output_accuracy: 0.9948\n",
            "Epoch 3/5\n",
            "60000/60000 [==============================] - 44s 736us/step - loss: 0.0900 - digit_output_loss: 0.0748 - rotation_output_loss: 0.0152 - digit_output_accuracy: 0.9768 - rotation_output_accuracy: 0.9949 - val_loss: 0.0610 - val_digit_output_loss: 0.0478 - val_rotation_output_loss: 0.0126 - val_digit_output_accuracy: 0.9841 - val_rotation_output_accuracy: 0.9957\n",
            "Epoch 4/5\n",
            "60000/60000 [==============================] - 44s 732us/step - loss: 0.0754 - digit_output_loss: 0.0632 - rotation_output_loss: 0.0122 - digit_output_accuracy: 0.9797 - rotation_output_accuracy: 0.9956 - val_loss: 0.0562 - val_digit_output_loss: 0.0449 - val_rotation_output_loss: 0.0107 - val_digit_output_accuracy: 0.9846 - val_rotation_output_accuracy: 0.9966\n",
            "Epoch 5/5\n",
            "60000/60000 [==============================] - 44s 738us/step - loss: 0.0657 - digit_output_loss: 0.0553 - rotation_output_loss: 0.0104 - digit_output_accuracy: 0.9821 - rotation_output_accuracy: 0.9962 - val_loss: 0.0530 - val_digit_output_loss: 0.0413 - val_rotation_output_loss: 0.0111 - val_digit_output_accuracy: 0.9850 - val_rotation_output_accuracy: 0.9955\n",
            "Train on 60000 samples, validate on 10000 samples\n",
            "Epoch 1/5\n",
            "60000/60000 [==============================] - 44s 740us/step - loss: 0.3897 - digit_output_loss: 0.3248 - rotation_output_loss: 0.0647 - digit_output_accuracy: 0.8957 - rotation_output_accuracy: 0.9762 - val_loss: 0.0974 - val_digit_output_loss: 0.0780 - val_rotation_output_loss: 0.0184 - val_digit_output_accuracy: 0.9754 - val_rotation_output_accuracy: 0.9937\n",
            "Epoch 2/5\n",
            "60000/60000 [==============================] - 44s 736us/step - loss: 0.1655 - digit_output_loss: 0.1378 - rotation_output_loss: 0.0277 - digit_output_accuracy: 0.9579 - rotation_output_accuracy: 0.9909 - val_loss: 0.0689 - val_digit_output_loss: 0.0551 - val_rotation_output_loss: 0.0131 - val_digit_output_accuracy: 0.9823 - val_rotation_output_accuracy: 0.9953\n",
            "Epoch 3/5\n",
            "60000/60000 [==============================] - 45s 743us/step - loss: 0.1338 - digit_output_loss: 0.1116 - rotation_output_loss: 0.0222 - digit_output_accuracy: 0.9653 - rotation_output_accuracy: 0.9923 - val_loss: 0.0639 - val_digit_output_loss: 0.0502 - val_rotation_output_loss: 0.0130 - val_digit_output_accuracy: 0.9834 - val_rotation_output_accuracy: 0.9954\n",
            "Epoch 4/5\n",
            "60000/60000 [==============================] - 44s 737us/step - loss: 0.1143 - digit_output_loss: 0.0954 - rotation_output_loss: 0.0189 - digit_output_accuracy: 0.9703 - rotation_output_accuracy: 0.9934 - val_loss: 0.0531 - val_digit_output_loss: 0.0422 - val_rotation_output_loss: 0.0103 - val_digit_output_accuracy: 0.9860 - val_rotation_output_accuracy: 0.9965\n",
            "Epoch 5/5\n",
            "60000/60000 [==============================] - 49s 815us/step - loss: 0.1012 - digit_output_loss: 0.0844 - rotation_output_loss: 0.0168 - digit_output_accuracy: 0.9741 - rotation_output_accuracy: 0.9944 - val_loss: 0.0546 - val_digit_output_loss: 0.0425 - val_rotation_output_loss: 0.0115 - val_digit_output_accuracy: 0.9853 - val_rotation_output_accuracy: 0.9965\n",
            "Train on 60000 samples, validate on 10000 samples\n",
            "Epoch 1/5\n",
            "60000/60000 [==============================] - 45s 752us/step - loss: 0.4718 - digit_output_loss: 0.3931 - rotation_output_loss: 0.0786 - digit_output_accuracy: 0.8758 - rotation_output_accuracy: 0.9703 - val_loss: 0.1137 - val_digit_output_loss: 0.0911 - val_rotation_output_loss: 0.0214 - val_digit_output_accuracy: 0.9704 - val_rotation_output_accuracy: 0.9923\n",
            "Epoch 2/5\n",
            "60000/60000 [==============================] - 45s 742us/step - loss: 0.2276 - digit_output_loss: 0.1894 - rotation_output_loss: 0.0381 - digit_output_accuracy: 0.9429 - rotation_output_accuracy: 0.9872 - val_loss: 0.0860 - val_digit_output_loss: 0.0675 - val_rotation_output_loss: 0.0177 - val_digit_output_accuracy: 0.9786 - val_rotation_output_accuracy: 0.9935\n",
            "Epoch 3/5\n",
            "60000/60000 [==============================] - 45s 755us/step - loss: 0.1857 - digit_output_loss: 0.1560 - rotation_output_loss: 0.0298 - digit_output_accuracy: 0.9527 - rotation_output_accuracy: 0.9902 - val_loss: 0.0670 - val_digit_output_loss: 0.0525 - val_rotation_output_loss: 0.0138 - val_digit_output_accuracy: 0.9819 - val_rotation_output_accuracy: 0.9948\n",
            "Epoch 4/5\n",
            "60000/60000 [==============================] - 45s 758us/step - loss: 0.1664 - digit_output_loss: 0.1387 - rotation_output_loss: 0.0278 - digit_output_accuracy: 0.9579 - rotation_output_accuracy: 0.9904 - val_loss: 0.0617 - val_digit_output_loss: 0.0468 - val_rotation_output_loss: 0.0142 - val_digit_output_accuracy: 0.9840 - val_rotation_output_accuracy: 0.9952\n",
            "Epoch 5/5\n",
            "60000/60000 [==============================] - 45s 755us/step - loss: 0.1562 - digit_output_loss: 0.1313 - rotation_output_loss: 0.0249 - digit_output_accuracy: 0.9595 - rotation_output_accuracy: 0.9915 - val_loss: 0.0557 - val_digit_output_loss: 0.0427 - val_rotation_output_loss: 0.0124 - val_digit_output_accuracy: 0.9850 - val_rotation_output_accuracy: 0.9953\n",
            "Train on 60000 samples, validate on 10000 samples\n",
            "Epoch 1/5\n",
            "60000/60000 [==============================] - 46s 764us/step - loss: 0.5868 - digit_output_loss: 0.4881 - rotation_output_loss: 0.0986 - digit_output_accuracy: 0.8429 - rotation_output_accuracy: 0.9632 - val_loss: 0.1291 - val_digit_output_loss: 0.1008 - val_rotation_output_loss: 0.0271 - val_digit_output_accuracy: 0.9679 - val_rotation_output_accuracy: 0.9900\n",
            "Epoch 2/5\n",
            "60000/60000 [==============================] - 45s 742us/step - loss: 0.3005 - digit_output_loss: 0.2485 - rotation_output_loss: 0.0519 - digit_output_accuracy: 0.9242 - rotation_output_accuracy: 0.9817 - val_loss: 0.1030 - val_digit_output_loss: 0.0804 - val_rotation_output_loss: 0.0215 - val_digit_output_accuracy: 0.9748 - val_rotation_output_accuracy: 0.9922\n",
            "Epoch 3/5\n",
            "60000/60000 [==============================] - 44s 737us/step - loss: 0.2538 - digit_output_loss: 0.2110 - rotation_output_loss: 0.0427 - digit_output_accuracy: 0.9349 - rotation_output_accuracy: 0.9851 - val_loss: 0.0837 - val_digit_output_loss: 0.0650 - val_rotation_output_loss: 0.0178 - val_digit_output_accuracy: 0.9789 - val_rotation_output_accuracy: 0.9937\n",
            "Epoch 4/5\n",
            "60000/60000 [==============================] - 44s 726us/step - loss: 0.2293 - digit_output_loss: 0.1915 - rotation_output_loss: 0.0378 - digit_output_accuracy: 0.9410 - rotation_output_accuracy: 0.9871 - val_loss: 0.0778 - val_digit_output_loss: 0.0601 - val_rotation_output_loss: 0.0168 - val_digit_output_accuracy: 0.9804 - val_rotation_output_accuracy: 0.9940\n",
            "Epoch 5/5\n",
            "60000/60000 [==============================] - 44s 732us/step - loss: 0.2148 - digit_output_loss: 0.1773 - rotation_output_loss: 0.0375 - digit_output_accuracy: 0.9460 - rotation_output_accuracy: 0.9868 - val_loss: 0.0724 - val_digit_output_loss: 0.0551 - val_rotation_output_loss: 0.0165 - val_digit_output_accuracy: 0.9817 - val_rotation_output_accuracy: 0.9940\n",
            "Train on 60000 samples, validate on 10000 samples\n",
            "Epoch 1/5\n",
            "60000/60000 [==============================] - 43s 717us/step - loss: 0.8580 - digit_output_loss: 0.7251 - rotation_output_loss: 0.1329 - digit_output_accuracy: 0.7591 - rotation_output_accuracy: 0.9495 - val_loss: 0.1835 - val_digit_output_loss: 0.1524 - val_rotation_output_loss: 0.0294 - val_digit_output_accuracy: 0.9555 - val_rotation_output_accuracy: 0.9894\n",
            "Epoch 2/5\n",
            "60000/60000 [==============================] - 43s 721us/step - loss: 0.4993 - digit_output_loss: 0.4211 - rotation_output_loss: 0.0782 - digit_output_accuracy: 0.8652 - rotation_output_accuracy: 0.9710 - val_loss: 0.1304 - val_digit_output_loss: 0.1053 - val_rotation_output_loss: 0.0238 - val_digit_output_accuracy: 0.9663 - val_rotation_output_accuracy: 0.9912\n",
            "Epoch 3/5\n",
            "60000/60000 [==============================] - 46s 762us/step - loss: 0.4271 - digit_output_loss: 0.3605 - rotation_output_loss: 0.0667 - digit_output_accuracy: 0.8860 - rotation_output_accuracy: 0.9749 - val_loss: 0.1092 - val_digit_output_loss: 0.0886 - val_rotation_output_loss: 0.0194 - val_digit_output_accuracy: 0.9726 - val_rotation_output_accuracy: 0.9928\n",
            "Epoch 4/5\n",
            "60000/60000 [==============================] - 45s 749us/step - loss: 0.3983 - digit_output_loss: 0.3367 - rotation_output_loss: 0.0616 - digit_output_accuracy: 0.8933 - rotation_output_accuracy: 0.9771 - val_loss: 0.1001 - val_digit_output_loss: 0.0809 - val_rotation_output_loss: 0.0181 - val_digit_output_accuracy: 0.9743 - val_rotation_output_accuracy: 0.9940\n",
            "Epoch 5/5\n",
            "60000/60000 [==============================] - 43s 721us/step - loss: 0.3704 - digit_output_loss: 0.3121 - rotation_output_loss: 0.0582 - digit_output_accuracy: 0.9010 - rotation_output_accuracy: 0.9779 - val_loss: 0.0924 - val_digit_output_loss: 0.0735 - val_rotation_output_loss: 0.0179 - val_digit_output_accuracy: 0.9763 - val_rotation_output_accuracy: 0.9940\n",
            "Train on 60000 samples, validate on 10000 samples\n",
            "Epoch 1/5\n",
            "60000/60000 [==============================] - 44s 731us/step - loss: 1.2722 - digit_output_loss: 1.0781 - rotation_output_loss: 0.1940 - digit_output_accuracy: 0.6176 - rotation_output_accuracy: 0.9202 - val_loss: 0.3066 - val_digit_output_loss: 0.2631 - val_rotation_output_loss: 0.0421 - val_digit_output_accuracy: 0.9399 - val_rotation_output_accuracy: 0.9869\n",
            "Epoch 2/5\n",
            "60000/60000 [==============================] - 43s 718us/step - loss: 0.8689 - digit_output_loss: 0.7318 - rotation_output_loss: 0.1369 - digit_output_accuracy: 0.7461 - rotation_output_accuracy: 0.9445 - val_loss: 0.2283 - val_digit_output_loss: 0.1927 - val_rotation_output_loss: 0.0344 - val_digit_output_accuracy: 0.9522 - val_rotation_output_accuracy: 0.9890\n",
            "Epoch 3/5\n",
            "60000/60000 [==============================] - 44s 725us/step - loss: 0.7591 - digit_output_loss: 0.6346 - rotation_output_loss: 0.1244 - digit_output_accuracy: 0.7814 - rotation_output_accuracy: 0.9486 - val_loss: 0.1816 - val_digit_output_loss: 0.1511 - val_rotation_output_loss: 0.0293 - val_digit_output_accuracy: 0.9564 - val_rotation_output_accuracy: 0.9900\n",
            "Epoch 4/5\n",
            "60000/60000 [==============================] - 44s 726us/step - loss: 0.7143 - digit_output_loss: 0.5973 - rotation_output_loss: 0.1169 - digit_output_accuracy: 0.7961 - rotation_output_accuracy: 0.9523 - val_loss: 0.1589 - val_digit_output_loss: 0.1310 - val_rotation_output_loss: 0.0266 - val_digit_output_accuracy: 0.9628 - val_rotation_output_accuracy: 0.9907\n",
            "Epoch 5/5\n",
            "60000/60000 [==============================] - 43s 719us/step - loss: 0.6722 - digit_output_loss: 0.5608 - rotation_output_loss: 0.1115 - digit_output_accuracy: 0.8074 - rotation_output_accuracy: 0.9533 - val_loss: 0.1531 - val_digit_output_loss: 0.1275 - val_rotation_output_loss: 0.0243 - val_digit_output_accuracy: 0.9641 - val_rotation_output_accuracy: 0.9915\n",
            "Train on 60000 samples, validate on 10000 samples\n",
            "Epoch 1/5\n",
            "60000/60000 [==============================] - 44s 737us/step - loss: 1.9466 - digit_output_loss: 1.6391 - rotation_output_loss: 0.3073 - digit_output_accuracy: 0.3916 - rotation_output_accuracy: 0.8619 - val_loss: 0.8488 - val_digit_output_loss: 0.7562 - val_rotation_output_loss: 0.0910 - val_digit_output_accuracy: 0.8785 - val_rotation_output_accuracy: 0.9756\n",
            "Epoch 2/5\n",
            "60000/60000 [==============================] - 43s 719us/step - loss: 1.5088 - digit_output_loss: 1.2798 - rotation_output_loss: 0.2289 - digit_output_accuracy: 0.5287 - rotation_output_accuracy: 0.8960 - val_loss: 0.6370 - val_digit_output_loss: 0.5683 - val_rotation_output_loss: 0.0672 - val_digit_output_accuracy: 0.9173 - val_rotation_output_accuracy: 0.9822\n",
            "Epoch 3/5\n",
            "60000/60000 [==============================] - 44s 732us/step - loss: 1.3491 - digit_output_loss: 1.1466 - rotation_output_loss: 0.2024 - digit_output_accuracy: 0.5791 - rotation_output_accuracy: 0.9090 - val_loss: 0.5081 - val_digit_output_loss: 0.4516 - val_rotation_output_loss: 0.0548 - val_digit_output_accuracy: 0.9331 - val_rotation_output_accuracy: 0.9826\n",
            "Epoch 4/5\n",
            "60000/60000 [==============================] - 44s 729us/step - loss: 1.2552 - digit_output_loss: 1.0671 - rotation_output_loss: 0.1881 - digit_output_accuracy: 0.6121 - rotation_output_accuracy: 0.9183 - val_loss: 0.4166 - val_digit_output_loss: 0.3678 - val_rotation_output_loss: 0.0471 - val_digit_output_accuracy: 0.9408 - val_rotation_output_accuracy: 0.9851\n",
            "Epoch 5/5\n",
            "60000/60000 [==============================] - 44s 731us/step - loss: 1.1713 - digit_output_loss: 0.9914 - rotation_output_loss: 0.1800 - digit_output_accuracy: 0.6410 - rotation_output_accuracy: 0.9222 - val_loss: 0.3513 - val_digit_output_loss: 0.3069 - val_rotation_output_loss: 0.0428 - val_digit_output_accuracy: 0.9453 - val_rotation_output_accuracy: 0.9873\n"
          ],
          "name": "stdout"
        }
      ]
    },
    {
      "cell_type": "markdown",
      "metadata": {
        "id": "zXJmMFg5rXgE",
        "colab_type": "text"
      },
      "source": [
        "Best dropout rate is 0.2"
      ]
    },
    {
      "cell_type": "code",
      "metadata": {
        "id": "ZtMTEhrlq8SF",
        "colab_type": "code",
        "colab": {
          "base_uri": "https://localhost:8080/",
          "height": 153
        },
        "outputId": "3048e4d4-3159-464e-e732-2fbe410f5eab"
      },
      "source": [
        "names = [\"D=0\",\"D=0.1\",\"D=0.2\",\"D=0.3\",\"D=0.4\",\"D=0.5\",\"D=0.6\",\"D=0.7\"]\n",
        "for j in range(NN):\n",
        "  print('CNN', names[j], 'Digit validation accuracy', round(max(model_log[j].history['val_digit_output_accuracy']),4), \n",
        "        'Rotation validation accuracy', round(max(model_log[j].history['val_rotation_output_accuracy']),4))"
      ],
      "execution_count": 38,
      "outputs": [
        {
          "output_type": "stream",
          "text": [
            "CNN D=0 Digit validation accuracy 0.9861 Rotation validation accuracy 0.9967\n",
            "CNN D=0.1 Digit validation accuracy 0.985 Rotation validation accuracy 0.9966\n",
            "CNN D=0.2 Digit validation accuracy 0.986 Rotation validation accuracy 0.9965\n",
            "CNN D=0.3 Digit validation accuracy 0.985 Rotation validation accuracy 0.9953\n",
            "CNN D=0.4 Digit validation accuracy 0.9817 Rotation validation accuracy 0.994\n",
            "CNN D=0.5 Digit validation accuracy 0.9763 Rotation validation accuracy 0.994\n",
            "CNN D=0.6 Digit validation accuracy 0.9641 Rotation validation accuracy 0.9915\n",
            "CNN D=0.7 Digit validation accuracy 0.9453 Rotation validation accuracy 0.9873\n"
          ],
          "name": "stdout"
        }
      ]
    },
    {
      "cell_type": "markdown",
      "metadata": {
        "id": "-OX5OiRer1Ey",
        "colab_type": "text"
      },
      "source": [
        "3. Choose whether to use batch normalization or not"
      ]
    },
    {
      "cell_type": "code",
      "metadata": {
        "id": "Usj_C53tsFxX",
        "colab_type": "code",
        "colab": {
          "base_uri": "https://localhost:8080/",
          "height": 224
        },
        "outputId": "ebc0b7e7-6b3c-45c8-faa7-49db775bdf4a"
      },
      "source": [
        "  #input layer\n",
        "  input_layer = Input(shape=input_shape) \n",
        "\n",
        "  #1st convolution-pooling pair\n",
        "  Conv_1 = Conv2D(32, kernel_size=(3, 3),activation='relu')(input_layer)\n",
        "  Max_Pooling_1 = MaxPool2D()(Conv_1)\n",
        "  Batch_1 = BatchNormalization()(Max_Pooling_1)\n",
        "  Drop_1 = Dropout(0.2)(Batch_1)\n",
        "  \n",
        "\n",
        "  #2nd convolution-pooling pair\n",
        "  Conv_2 = Conv2D(64, (3, 3), activation='relu')(Drop_1)\n",
        "  Max_Pooling_2 = MaxPool2D()(Conv_2)\n",
        "  Batch_2 = BatchNormalization()(Max_Pooling_2)\n",
        "  Drop_2 = Dropout(0.2)(Batch_2)\n",
        "  \n",
        "\n",
        "  #Flattening\n",
        "  Flat = Flatten()(Drop_2)\n",
        "\n",
        "  #Dense layer\n",
        "  Dense_1 = Dense(64, activation='relu')(Flat)\n",
        "  Batch_3 = BatchNormalization()(Dense_1)\n",
        "  Drop_3 = Dropout(0.2)(Batch_3)\n",
        "\n",
        "  #Output layers\n",
        "\n",
        "  #1. digit recognition\n",
        "  digit_output = Dense(y_train.shape[1], activation='softmax', name = 'digit_output')(Drop_3)\n",
        "\n",
        "  #2. rotation recognition\n",
        "  rotation_output = Dense(y_rot_train.shape[1], activation='sigmoid', name = 'rotation_output')(Drop_3)\n",
        "\n",
        "  #model compilation\n",
        "  model = Model(inputs=input_layer, outputs=[digit_output, rotation_output])\n",
        "  model.compile(loss=losses,optimizer=opt,metrics=['accuracy']) #accuracy for classification problem\n",
        "\n",
        "\n",
        "  model_log = model.fit(x_train,\n",
        "\t{\"digit_output\": y_train, \"rotation_output\": y_rot_train},\n",
        "\tvalidation_data=(x_test,\n",
        "\t\t{\"digit_output\": y_test, \"rotation_output\": y_rot_test}),\n",
        "          batch_size=batch_size,\n",
        "          epochs=num_epoch,\n",
        "          verbose=1)"
      ],
      "execution_count": 45,
      "outputs": [
        {
          "output_type": "stream",
          "text": [
            "Train on 60000 samples, validate on 10000 samples\n",
            "Epoch 1/5\n",
            "60000/60000 [==============================] - 52s 874us/step - loss: 0.4158 - digit_output_loss: 0.3435 - rotation_output_loss: 0.0723 - digit_output_accuracy: 0.8990 - rotation_output_accuracy: 0.9759 - val_loss: 1.3801 - val_digit_output_loss: 1.3193 - val_rotation_output_loss: 0.0590 - val_digit_output_accuracy: 0.5463 - val_rotation_output_accuracy: 0.9886\n",
            "Epoch 2/5\n",
            "60000/60000 [==============================] - 52s 865us/step - loss: 0.1468 - digit_output_loss: 0.1204 - rotation_output_loss: 0.0264 - digit_output_accuracy: 0.9644 - rotation_output_accuracy: 0.9919 - val_loss: 0.0784 - val_digit_output_loss: 0.0637 - val_rotation_output_loss: 0.0138 - val_digit_output_accuracy: 0.9796 - val_rotation_output_accuracy: 0.9952\n",
            "Epoch 3/5\n",
            "60000/60000 [==============================] - 51s 856us/step - loss: 0.1052 - digit_output_loss: 0.0854 - rotation_output_loss: 0.0199 - digit_output_accuracy: 0.9743 - rotation_output_accuracy: 0.9933 - val_loss: 0.0641 - val_digit_output_loss: 0.0500 - val_rotation_output_loss: 0.0134 - val_digit_output_accuracy: 0.9835 - val_rotation_output_accuracy: 0.9957\n",
            "Epoch 4/5\n",
            "60000/60000 [==============================] - 52s 860us/step - loss: 0.0900 - digit_output_loss: 0.0738 - rotation_output_loss: 0.0161 - digit_output_accuracy: 0.9770 - rotation_output_accuracy: 0.9947 - val_loss: 0.0766 - val_digit_output_loss: 0.0615 - val_rotation_output_loss: 0.0143 - val_digit_output_accuracy: 0.9792 - val_rotation_output_accuracy: 0.9951\n",
            "Epoch 5/5\n",
            "60000/60000 [==============================] - 51s 847us/step - loss: 0.0761 - digit_output_loss: 0.0623 - rotation_output_loss: 0.0138 - digit_output_accuracy: 0.9805 - rotation_output_accuracy: 0.9954 - val_loss: 0.0614 - val_digit_output_loss: 0.0486 - val_rotation_output_loss: 0.0121 - val_digit_output_accuracy: 0.9835 - val_rotation_output_accuracy: 0.9947\n"
          ],
          "name": "stdout"
        }
      ]
    },
    {
      "cell_type": "markdown",
      "metadata": {
        "id": "9bzuNdyvu9wO",
        "colab_type": "text"
      },
      "source": [
        "Batch normalization does not increase accuracy much, but takes more time => do not use it"
      ]
    },
    {
      "cell_type": "code",
      "metadata": {
        "id": "uqNFoboBu-NZ",
        "colab_type": "code",
        "colab": {
          "base_uri": "https://localhost:8080/",
          "height": 51
        },
        "outputId": "f68fa68f-26d7-4474-af82-5daa693dc7de"
      },
      "source": [
        "print('CNN No Batch Normalization Digit validation accuracy 0.986 Rotation validation accuracy 0.9965')\n",
        "print('CNN Batch Normalization Digit validation accuracy', round(max(model_log.history['val_digit_output_accuracy']),4), \n",
        "        'Rotation validation accuracy', round(max(model_log.history['val_rotation_output_accuracy']),4))"
      ],
      "execution_count": 47,
      "outputs": [
        {
          "output_type": "stream",
          "text": [
            "CNN No Batch Normalization Digit validation accuracy 0.986 Rotation validation accuracy 0.9965\n",
            "CNN Batch Normalization Digit validation accuracy 0.9835 Rotation validation accuracy 0.9957\n"
          ],
          "name": "stdout"
        }
      ]
    },
    {
      "cell_type": "markdown",
      "metadata": {
        "id": "txBQa4FdwGgi",
        "colab_type": "text"
      },
      "source": [
        "Final model: \n",
        "1. Neurons in dense layer = 64\n",
        "2. Dropout rate = 0.2\n",
        "3. No batch normalization\n",
        "\n",
        "Train it for 5 more epochs"
      ]
    },
    {
      "cell_type": "code",
      "metadata": {
        "id": "g4N-aCtuwVmu",
        "colab_type": "code",
        "colab": {
          "base_uri": "https://localhost:8080/",
          "height": 394
        },
        "outputId": "2e61c27a-fdbe-495a-9768-8dab19355ad4"
      },
      "source": [
        "  #input layer\n",
        "  input_layer = Input(shape=input_shape) \n",
        "\n",
        "  #1st convolution-pooling pair\n",
        "  Conv_1 = Conv2D(32, kernel_size=(3, 3),activation='relu')(input_layer)\n",
        "  Max_Pooling_1 = MaxPool2D()(Conv_1)\n",
        "  Drop_1 = Dropout(0.2)(Max_Pooling_1)\n",
        "  \n",
        "\n",
        "  #2nd convolution-pooling pair\n",
        "  Conv_2 = Conv2D(64, (3, 3), activation='relu')(Drop_1)\n",
        "  Max_Pooling_2 = MaxPool2D()(Conv_2)\n",
        "  Drop_2 = Dropout(0.2)(Max_Pooling_2)\n",
        "  \n",
        "\n",
        "  #Flattening\n",
        "  Flat = Flatten()(Drop_2)\n",
        "\n",
        "  #Dense layer\n",
        "  Dense_1 = Dense(64, activation='relu')(Flat)\n",
        "  Drop_3 = Dropout(0.2)(Dense_1)\n",
        "\n",
        "  #Output layers\n",
        "\n",
        "  #1. digit recognition\n",
        "  digit_output = Dense(y_train.shape[1], activation='softmax', name = 'digit_output')(Drop_3)\n",
        "\n",
        "  #2. rotation recognition\n",
        "  rotation_output = Dense(y_rot_train.shape[1], activation='sigmoid', name = 'rotation_output')(Drop_3)\n",
        "\n",
        "  #model compilation\n",
        "  model = Model(inputs=input_layer, outputs=[digit_output, rotation_output])\n",
        "  model.compile(loss=losses,optimizer=opt,metrics=['accuracy']) #accuracy for classification problem\n",
        "\n",
        "\n",
        "  model_log = model.fit(x_train,\n",
        "\t{\"digit_output\": y_train, \"rotation_output\": y_rot_train},\n",
        "\tvalidation_data=(x_test,\n",
        "\t\t{\"digit_output\": y_test, \"rotation_output\": y_rot_test}),\n",
        "          batch_size=batch_size,\n",
        "          epochs=(num_epoch+5),\n",
        "          verbose=1)"
      ],
      "execution_count": 48,
      "outputs": [
        {
          "output_type": "stream",
          "text": [
            "Train on 60000 samples, validate on 10000 samples\n",
            "Epoch 1/10\n",
            "60000/60000 [==============================] - 46s 765us/step - loss: 0.3973 - digit_output_loss: 0.3312 - rotation_output_loss: 0.0660 - digit_output_accuracy: 0.8958 - rotation_output_accuracy: 0.9757 - val_loss: 0.1023 - val_digit_output_loss: 0.0814 - val_rotation_output_loss: 0.0198 - val_digit_output_accuracy: 0.9737 - val_rotation_output_accuracy: 0.9928\n",
            "Epoch 2/10\n",
            "60000/60000 [==============================] - 45s 748us/step - loss: 0.1670 - digit_output_loss: 0.1395 - rotation_output_loss: 0.0275 - digit_output_accuracy: 0.9571 - rotation_output_accuracy: 0.9906 - val_loss: 0.0809 - val_digit_output_loss: 0.0613 - val_rotation_output_loss: 0.0187 - val_digit_output_accuracy: 0.9796 - val_rotation_output_accuracy: 0.9937\n",
            "Epoch 3/10\n",
            "60000/60000 [==============================] - 45s 758us/step - loss: 0.1360 - digit_output_loss: 0.1143 - rotation_output_loss: 0.0217 - digit_output_accuracy: 0.9651 - rotation_output_accuracy: 0.9922 - val_loss: 0.0618 - val_digit_output_loss: 0.0493 - val_rotation_output_loss: 0.0118 - val_digit_output_accuracy: 0.9826 - val_rotation_output_accuracy: 0.9957\n",
            "Epoch 4/10\n",
            "60000/60000 [==============================] - 45s 744us/step - loss: 0.1145 - digit_output_loss: 0.0955 - rotation_output_loss: 0.0189 - digit_output_accuracy: 0.9698 - rotation_output_accuracy: 0.9935 - val_loss: 0.0649 - val_digit_output_loss: 0.0498 - val_rotation_output_loss: 0.0144 - val_digit_output_accuracy: 0.9837 - val_rotation_output_accuracy: 0.9949\n",
            "Epoch 5/10\n",
            "60000/60000 [==============================] - 45s 746us/step - loss: 0.1032 - digit_output_loss: 0.0863 - rotation_output_loss: 0.0169 - digit_output_accuracy: 0.9731 - rotation_output_accuracy: 0.9941 - val_loss: 0.0577 - val_digit_output_loss: 0.0452 - val_rotation_output_loss: 0.0118 - val_digit_output_accuracy: 0.9845 - val_rotation_output_accuracy: 0.9958\n",
            "Epoch 6/10\n",
            "60000/60000 [==============================] - 45s 742us/step - loss: 0.0927 - digit_output_loss: 0.0770 - rotation_output_loss: 0.0157 - digit_output_accuracy: 0.9763 - rotation_output_accuracy: 0.9945 - val_loss: 0.0539 - val_digit_output_loss: 0.0423 - val_rotation_output_loss: 0.0110 - val_digit_output_accuracy: 0.9860 - val_rotation_output_accuracy: 0.9960\n",
            "Epoch 7/10\n",
            "60000/60000 [==============================] - 45s 752us/step - loss: 0.0878 - digit_output_loss: 0.0734 - rotation_output_loss: 0.0144 - digit_output_accuracy: 0.9777 - rotation_output_accuracy: 0.9945 - val_loss: 0.0525 - val_digit_output_loss: 0.0409 - val_rotation_output_loss: 0.0111 - val_digit_output_accuracy: 0.9860 - val_rotation_output_accuracy: 0.9962\n",
            "Epoch 8/10\n",
            "60000/60000 [==============================] - 46s 773us/step - loss: 0.0820 - digit_output_loss: 0.0686 - rotation_output_loss: 0.0134 - digit_output_accuracy: 0.9779 - rotation_output_accuracy: 0.9949 - val_loss: 0.0508 - val_digit_output_loss: 0.0388 - val_rotation_output_loss: 0.0114 - val_digit_output_accuracy: 0.9878 - val_rotation_output_accuracy: 0.9961\n",
            "Epoch 9/10\n",
            "60000/60000 [==============================] - 52s 865us/step - loss: 0.0802 - digit_output_loss: 0.0670 - rotation_output_loss: 0.0132 - digit_output_accuracy: 0.9787 - rotation_output_accuracy: 0.9952 - val_loss: 0.0497 - val_digit_output_loss: 0.0387 - val_rotation_output_loss: 0.0105 - val_digit_output_accuracy: 0.9873 - val_rotation_output_accuracy: 0.9966\n",
            "Epoch 10/10\n",
            "60000/60000 [==============================] - 48s 793us/step - loss: 0.0748 - digit_output_loss: 0.0624 - rotation_output_loss: 0.0124 - digit_output_accuracy: 0.9793 - rotation_output_accuracy: 0.9959 - val_loss: 0.0541 - val_digit_output_loss: 0.0411 - val_rotation_output_loss: 0.0123 - val_digit_output_accuracy: 0.9864 - val_rotation_output_accuracy: 0.9960\n"
          ],
          "name": "stdout"
        }
      ]
    },
    {
      "cell_type": "markdown",
      "metadata": {
        "id": "RA8qOTGlzGCO",
        "colab_type": "text"
      },
      "source": [
        "Accuracy dynamics with epoch increase"
      ]
    },
    {
      "cell_type": "code",
      "metadata": {
        "id": "vEcIPNwNycRE",
        "colab_type": "code",
        "colab": {
          "base_uri": "https://localhost:8080/",
          "height": 350
        },
        "outputId": "fc5affc2-8c31-4d4f-eb6a-0a0134d2b979"
      },
      "source": [
        "plt.figure(figsize=(15,5))\n",
        "plt.plot(model_log.history['val_digit_output_accuracy'])\n",
        "plt.plot(model_log.history['val_rotation_output_accuracy'])\n",
        "plt.title('model validation accuracy')\n",
        "plt.ylabel('accuracy')\n",
        "plt.xlabel('epoch')\n",
        "plt.legend(['digit classifier', 'rotation classifier'], loc='upper left')\n",
        "plt.show()"
      ],
      "execution_count": 49,
      "outputs": [
        {
          "output_type": "display_data",
          "data": {
            "image/png": "[encoded data removed]",
            "text/plain": [
              "<Figure size 1080x360 with 1 Axes>"
            ]
          },
          "metadata": {
            "tags": [],
            "needs_background": "light"
          }
        }
      ]
    },
    {
      "cell_type": "markdown",
      "metadata": {
        "id": "-P8xGGeGzKhv",
        "colab_type": "text"
      },
      "source": [
        "Final accuracy score"
      ]
    },
    {
      "cell_type": "code",
      "metadata": {
        "id": "XT1ZqV6nzExM",
        "colab_type": "code",
        "colab": {
          "base_uri": "https://localhost:8080/",
          "height": 34
        },
        "outputId": "8184af4c-4736-4c33-b9a9-e4a9037cf2d5"
      },
      "source": [
        "print('CNN Batch Normalization Digit validation accuracy', round(max(model_log.history['val_digit_output_accuracy']),4), \n",
        "        'Rotation validation accuracy', round(max(model_log.history['val_rotation_output_accuracy']),4))"
      ],
      "execution_count": 50,
      "outputs": [
        {
          "output_type": "stream",
          "text": [
            "CNN Batch Normalization Digit validation accuracy 0.9878 Rotation validation accuracy 0.9966\n"
          ],
          "name": "stdout"
        }
      ]
    }
  ]
}